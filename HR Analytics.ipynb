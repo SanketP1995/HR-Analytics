{
 "cells": [
  {
   "cell_type": "markdown",
   "id": "b67d3c46",
   "metadata": {},
   "source": [
    "#### Importing libraries"
   ]
  },
  {
   "cell_type": "code",
   "execution_count": 493,
   "id": "1afdc23a",
   "metadata": {},
   "outputs": [],
   "source": [
    "import pandas as pd\n",
    "import numpy as np \n",
    "import matplotlib.pyplot as plt\n",
    "import seaborn as sns\n",
    "import warnings\n",
    "warnings.filterwarnings(\"ignore\")\n",
    "%matplotlib inline"
   ]
  },
  {
   "cell_type": "markdown",
   "id": "b7e66faf",
   "metadata": {},
   "source": [
    "#### Reading Data"
   ]
  },
  {
   "cell_type": "code",
   "execution_count": 494,
   "id": "0370341d",
   "metadata": {},
   "outputs": [],
   "source": [
    "train=pd.read_csv(r'C:\\Users\\Admin\\Desktop\\hr analytics\\hranalyticstrain.csv')"
   ]
  },
  {
   "cell_type": "code",
   "execution_count": 495,
   "id": "751b6be0",
   "metadata": {},
   "outputs": [],
   "source": [
    "test=pd.read_csv(r'C:\\Users\\Admin\\Desktop\\hr analytics\\hranalyticstest.csv')"
   ]
  },
  {
   "cell_type": "code",
   "execution_count": 496,
   "id": "31469b15",
   "metadata": {},
   "outputs": [],
   "source": [
    "hr=train.append(test)"
   ]
  },
  {
   "cell_type": "markdown",
   "id": "f800f0fe",
   "metadata": {},
   "source": [
    "#### EDA"
   ]
  },
  {
   "cell_type": "code",
   "execution_count": 497,
   "id": "3aa475a6",
   "metadata": {},
   "outputs": [
    {
     "name": "stdout",
     "output_type": "stream",
     "text": [
      "<class 'pandas.core.frame.DataFrame'>\n",
      "Int64Index: 78298 entries, 0 to 23489\n",
      "Data columns (total 14 columns):\n",
      " #   Column                Non-Null Count  Dtype  \n",
      "---  ------                --------------  -----  \n",
      " 0   employee_id           78298 non-null  int64  \n",
      " 1   department            78298 non-null  object \n",
      " 2   region                78298 non-null  object \n",
      " 3   education             74855 non-null  object \n",
      " 4   gender                78298 non-null  object \n",
      " 5   recruitment_channel   78298 non-null  object \n",
      " 6   no_of_trainings       78298 non-null  int64  \n",
      " 7   age                   78298 non-null  int64  \n",
      " 8   previous_year_rating  72362 non-null  float64\n",
      " 9   length_of_service     78298 non-null  int64  \n",
      " 10  KPIs_met >80%         78298 non-null  int64  \n",
      " 11  awards_won?           78298 non-null  int64  \n",
      " 12  avg_training_score    78298 non-null  int64  \n",
      " 13  is_promoted           54808 non-null  float64\n",
      "dtypes: float64(2), int64(7), object(5)\n",
      "memory usage: 9.0+ MB\n"
     ]
    }
   ],
   "source": [
    "hr.info()"
   ]
  },
  {
   "cell_type": "code",
   "execution_count": 498,
   "id": "d26ad02b",
   "metadata": {},
   "outputs": [
    {
     "data": {
      "text/plain": [
       "0.0    50140\n",
       "1.0     4668\n",
       "Name: is_promoted, dtype: int64"
      ]
     },
     "execution_count": 498,
     "metadata": {},
     "output_type": "execute_result"
    }
   ],
   "source": [
    "hr['is_promoted'].value_counts()"
   ]
  },
  {
   "cell_type": "markdown",
   "id": "ec040c52",
   "metadata": {},
   "source": [
    "#### Handling imbalanced data"
   ]
  },
  {
   "cell_type": "code",
   "execution_count": 499,
   "id": "a489d639",
   "metadata": {},
   "outputs": [],
   "source": [
    "a=hr.loc[(hr['is_promoted']== 0 )]\n"
   ]
  },
  {
   "cell_type": "code",
   "execution_count": 500,
   "id": "0aec6950",
   "metadata": {},
   "outputs": [],
   "source": [
    "b=hr.loc[(hr['is_promoted']== 1)]"
   ]
  },
  {
   "cell_type": "code",
   "execution_count": 501,
   "id": "b3e6dd2f",
   "metadata": {},
   "outputs": [],
   "source": [
    "a= a.sample(frac =.25)"
   ]
  },
  {
   "cell_type": "code",
   "execution_count": 502,
   "id": "ccd59f55",
   "metadata": {},
   "outputs": [
    {
     "data": {
      "text/plain": [
       "23490"
      ]
     },
     "execution_count": 502,
     "metadata": {},
     "output_type": "execute_result"
    }
   ],
   "source": [
    "hr=a.append(b)\n",
    "hr=hr.append(test)\n",
    "\n",
    "hr['is_promoted'].value_counts(normalize=True)*100\n",
    "hr['is_promoted'].isnull().sum()"
   ]
  },
  {
   "cell_type": "markdown",
   "id": "a954d21b",
   "metadata": {},
   "source": [
    "#### Imputing null values"
   ]
  },
  {
   "cell_type": "code",
   "execution_count": 503,
   "id": "dc2ecb22",
   "metadata": {},
   "outputs": [
    {
     "data": {
      "text/plain": [
       "0"
      ]
     },
     "execution_count": 503,
     "metadata": {},
     "output_type": "execute_result"
    }
   ],
   "source": [
    "hr['education']=np.where(hr.education.isnull(),\"Bachelor's\",hr.education)\n",
    "hr['education'].isnull().sum()"
   ]
  },
  {
   "cell_type": "code",
   "execution_count": null,
   "id": "54b08d1f",
   "metadata": {},
   "outputs": [],
   "source": []
  },
  {
   "cell_type": "code",
   "execution_count": 504,
   "id": "87511798",
   "metadata": {},
   "outputs": [
    {
     "data": {
      "text/plain": [
       "0"
      ]
     },
     "execution_count": 504,
     "metadata": {},
     "output_type": "execute_result"
    }
   ],
   "source": [
    "hr['education'].isnull().sum()"
   ]
  },
  {
   "cell_type": "code",
   "execution_count": null,
   "id": "82885b10",
   "metadata": {},
   "outputs": [],
   "source": []
  },
  {
   "cell_type": "markdown",
   "id": "7519b441",
   "metadata": {},
   "source": [
    "#### univariate analysis-categorical"
   ]
  },
  {
   "cell_type": "code",
   "execution_count": 505,
   "id": "3bf2b13d",
   "metadata": {},
   "outputs": [
    {
     "data": {
      "text/plain": [
       "3087"
      ]
     },
     "execution_count": 505,
     "metadata": {},
     "output_type": "execute_result"
    }
   ],
   "source": [
    "hr['previous_year_rating'].isnull().sum()"
   ]
  },
  {
   "cell_type": "code",
   "execution_count": 506,
   "id": "5f64530e",
   "metadata": {},
   "outputs": [
    {
     "data": {
      "text/plain": [
       "3.0    13532\n",
       "5.0     9526\n",
       "4.0     7332\n",
       "1.0     4301\n",
       "2.0     2915\n",
       "Name: previous_year_rating, dtype: int64"
      ]
     },
     "execution_count": 506,
     "metadata": {},
     "output_type": "execute_result"
    }
   ],
   "source": [
    "hr['previous_year_rating'].value_counts()"
   ]
  },
  {
   "cell_type": "code",
   "execution_count": 507,
   "id": "7d0a12a6",
   "metadata": {},
   "outputs": [
    {
     "data": {
      "text/plain": [
       "<AxesSubplot:xlabel='previous_year_rating', ylabel='Density'>"
      ]
     },
     "execution_count": 507,
     "metadata": {},
     "output_type": "execute_result"
    },
    {
     "data": {
      "image/png": "[encoded data removed]",
      "text/plain": [
       "<Figure size 432x288 with 1 Axes>"
      ]
     },
     "metadata": {
      "needs_background": "light"
     },
     "output_type": "display_data"
    }
   ],
   "source": [
    "sns.distplot(hr['previous_year_rating'])"
   ]
  },
  {
   "cell_type": "code",
   "execution_count": 14,
   "id": "5f93a884",
   "metadata": {},
   "outputs": [
    {
     "data": {
      "text/plain": [
       "<AxesSubplot:xlabel='KPIs_met >80%', ylabel='Density'>"
      ]
     },
     "execution_count": 14,
     "metadata": {},
     "output_type": "execute_result"
    },
    {
     "data": {
      "image/png": "[encoded data removed]",
      "text/plain": [
       "<Figure size 432x288 with 1 Axes>"
      ]
     },
     "metadata": {
      "needs_background": "light"
     },
     "output_type": "display_data"
    }
   ],
   "source": [
    "sns.distplot(hr['KPIs_met >80%'])"
   ]
  },
  {
   "cell_type": "code",
   "execution_count": 15,
   "id": "4b2e9342",
   "metadata": {},
   "outputs": [
    {
     "data": {
      "text/plain": [
       "<AxesSubplot:xlabel='avg_training_score', ylabel='Density'>"
      ]
     },
     "execution_count": 15,
     "metadata": {},
     "output_type": "execute_result"
    },
    {
     "data": {
      "image/png": "[encoded data removed]",
      "text/plain": [
       "<Figure size 432x288 with 1 Axes>"
      ]
     },
     "metadata": {
      "needs_background": "light"
     },
     "output_type": "display_data"
    }
   ],
   "source": [
    "sns.distplot(hr['avg_training_score'])"
   ]
  },
  {
   "cell_type": "code",
   "execution_count": 16,
   "id": "cd6fd0a8",
   "metadata": {},
   "outputs": [
    {
     "data": {
      "text/plain": [
       "count    78298.000000\n",
       "mean        63.349664\n",
       "std         13.383664\n",
       "min         39.000000\n",
       "25%         51.000000\n",
       "50%         60.000000\n",
       "75%         76.000000\n",
       "max         99.000000\n",
       "Name: avg_training_score, dtype: float64"
      ]
     },
     "execution_count": 16,
     "metadata": {},
     "output_type": "execute_result"
    }
   ],
   "source": [
    "hr['avg_training_score'].describe()#"
   ]
  },
  {
   "cell_type": "code",
   "execution_count": 508,
   "id": "55735c7d",
   "metadata": {},
   "outputs": [
    {
     "data": {
      "text/html": [
       "<div>\n",
       "<style scoped>\n",
       "    .dataframe tbody tr th:only-of-type {\n",
       "        vertical-align: middle;\n",
       "    }\n",
       "\n",
       "    .dataframe tbody tr th {\n",
       "        vertical-align: top;\n",
       "    }\n",
       "\n",
       "    .dataframe thead th {\n",
       "        text-align: right;\n",
       "    }\n",
       "</style>\n",
       "<table border=\"1\" class=\"dataframe\">\n",
       "  <thead>\n",
       "    <tr style=\"text-align: right;\">\n",
       "      <th></th>\n",
       "      <th>employee_id</th>\n",
       "      <th>department</th>\n",
       "      <th>region</th>\n",
       "      <th>education</th>\n",
       "      <th>gender</th>\n",
       "      <th>recruitment_channel</th>\n",
       "      <th>no_of_trainings</th>\n",
       "      <th>age</th>\n",
       "      <th>previous_year_rating</th>\n",
       "      <th>length_of_service</th>\n",
       "      <th>KPIs_met &gt;80%</th>\n",
       "      <th>awards_won?</th>\n",
       "      <th>avg_training_score</th>\n",
       "      <th>is_promoted</th>\n",
       "      <th>score_binned</th>\n",
       "    </tr>\n",
       "  </thead>\n",
       "  <tbody>\n",
       "    <tr>\n",
       "      <th>22396</th>\n",
       "      <td>55981</td>\n",
       "      <td>Finance</td>\n",
       "      <td>region_2</td>\n",
       "      <td>Bachelor's</td>\n",
       "      <td>m</td>\n",
       "      <td>sourcing</td>\n",
       "      <td>1</td>\n",
       "      <td>36</td>\n",
       "      <td>3.0</td>\n",
       "      <td>4</td>\n",
       "      <td>1</td>\n",
       "      <td>0</td>\n",
       "      <td>61</td>\n",
       "      <td>0.0</td>\n",
       "      <td>B</td>\n",
       "    </tr>\n",
       "    <tr>\n",
       "      <th>28550</th>\n",
       "      <td>75243</td>\n",
       "      <td>Analytics</td>\n",
       "      <td>region_31</td>\n",
       "      <td>Bachelor's</td>\n",
       "      <td>m</td>\n",
       "      <td>other</td>\n",
       "      <td>1</td>\n",
       "      <td>27</td>\n",
       "      <td>5.0</td>\n",
       "      <td>6</td>\n",
       "      <td>1</td>\n",
       "      <td>0</td>\n",
       "      <td>85</td>\n",
       "      <td>0.0</td>\n",
       "      <td>C</td>\n",
       "    </tr>\n",
       "    <tr>\n",
       "      <th>49503</th>\n",
       "      <td>66258</td>\n",
       "      <td>Analytics</td>\n",
       "      <td>region_19</td>\n",
       "      <td>Bachelor's</td>\n",
       "      <td>m</td>\n",
       "      <td>other</td>\n",
       "      <td>1</td>\n",
       "      <td>38</td>\n",
       "      <td>4.0</td>\n",
       "      <td>12</td>\n",
       "      <td>0</td>\n",
       "      <td>0</td>\n",
       "      <td>84</td>\n",
       "      <td>0.0</td>\n",
       "      <td>C</td>\n",
       "    </tr>\n",
       "    <tr>\n",
       "      <th>19267</th>\n",
       "      <td>1075</td>\n",
       "      <td>Procurement</td>\n",
       "      <td>region_7</td>\n",
       "      <td>Master's &amp; above</td>\n",
       "      <td>f</td>\n",
       "      <td>other</td>\n",
       "      <td>1</td>\n",
       "      <td>34</td>\n",
       "      <td>5.0</td>\n",
       "      <td>4</td>\n",
       "      <td>0</td>\n",
       "      <td>0</td>\n",
       "      <td>65</td>\n",
       "      <td>0.0</td>\n",
       "      <td>B</td>\n",
       "    </tr>\n",
       "    <tr>\n",
       "      <th>36132</th>\n",
       "      <td>25722</td>\n",
       "      <td>Procurement</td>\n",
       "      <td>region_20</td>\n",
       "      <td>Master's &amp; above</td>\n",
       "      <td>m</td>\n",
       "      <td>sourcing</td>\n",
       "      <td>1</td>\n",
       "      <td>40</td>\n",
       "      <td>1.0</td>\n",
       "      <td>7</td>\n",
       "      <td>0</td>\n",
       "      <td>0</td>\n",
       "      <td>69</td>\n",
       "      <td>0.0</td>\n",
       "      <td>B</td>\n",
       "    </tr>\n",
       "  </tbody>\n",
       "</table>\n",
       "</div>"
      ],
      "text/plain": [
       "       employee_id   department     region         education gender  \\\n",
       "22396        55981      Finance   region_2        Bachelor's      m   \n",
       "28550        75243    Analytics  region_31        Bachelor's      m   \n",
       "49503        66258    Analytics  region_19        Bachelor's      m   \n",
       "19267         1075  Procurement   region_7  Master's & above      f   \n",
       "36132        25722  Procurement  region_20  Master's & above      m   \n",
       "\n",
       "      recruitment_channel  no_of_trainings  age  previous_year_rating  \\\n",
       "22396            sourcing                1   36                   3.0   \n",
       "28550               other                1   27                   5.0   \n",
       "49503               other                1   38                   4.0   \n",
       "19267               other                1   34                   5.0   \n",
       "36132            sourcing                1   40                   1.0   \n",
       "\n",
       "       length_of_service  KPIs_met >80%  awards_won?  avg_training_score  \\\n",
       "22396                  4              1            0                  61   \n",
       "28550                  6              1            0                  85   \n",
       "49503                 12              0            0                  84   \n",
       "19267                  4              0            0                  65   \n",
       "36132                  7              0            0                  69   \n",
       "\n",
       "       is_promoted score_binned  \n",
       "22396          0.0            B  \n",
       "28550          0.0            C  \n",
       "49503          0.0            C  \n",
       "19267          0.0            B  \n",
       "36132          0.0            B  "
      ]
     },
     "execution_count": 508,
     "metadata": {},
     "output_type": "execute_result"
    }
   ],
   "source": [
    "bins = [30,50,70,90,100]\n",
    "labels = ['A','B','C','D']\n",
    "hr['score_binned']= pd.cut(hr['avg_training_score'],bins=bins, labels=labels)\n",
    "hr.head()"
   ]
  },
  {
   "cell_type": "code",
   "execution_count": 509,
   "id": "4bdb3188",
   "metadata": {},
   "outputs": [],
   "source": [
    "bins = [0,1,3,6,10]\n",
    "labels = ['A','B','C','D']\n",
    "hr['no_of_trainings_binned']= pd.cut(hr['no_of_trainings'],bins=bins, labels=labels)"
   ]
  },
  {
   "cell_type": "code",
   "execution_count": 510,
   "id": "ea0963e6",
   "metadata": {},
   "outputs": [],
   "source": [
    "bins = [20,30,45,55,60]\n",
    "labels = ['A','B','C','D']\n",
    "hr['age_binned']= pd.cut(hr['age'],bins=bins, labels=labels)"
   ]
  },
  {
   "cell_type": "markdown",
   "id": "ec96982d",
   "metadata": {},
   "source": [
    "#### Imputing null values"
   ]
  },
  {
   "cell_type": "code",
   "execution_count": 511,
   "id": "774fd957",
   "metadata": {},
   "outputs": [],
   "source": [
    "# hr['previous_year_rating']=hr['previous_year_rating'].fillna(hr['previous_year_rating'].groupby(hr['no_of_trainings_binned']).transform('mean'))\n",
    "hr['previous_year_rating']=np.where(hr.previous_year_rating.isnull(),0,hr.previous_year_rating)"
   ]
  },
  {
   "cell_type": "code",
   "execution_count": 479,
   "id": "2756c613",
   "metadata": {},
   "outputs": [
    {
     "data": {
      "text/plain": [
       "count    40693.000000\n",
       "mean         3.133831\n",
       "std          1.508382\n",
       "min          0.000000\n",
       "25%          2.000000\n",
       "50%          3.000000\n",
       "75%          4.000000\n",
       "max          5.000000\n",
       "Name: previous_year_rating, dtype: float64"
      ]
     },
     "execution_count": 479,
     "metadata": {},
     "output_type": "execute_result"
    }
   ],
   "source": [
    "hr['previous_year_rating'].describe()"
   ]
  },
  {
   "cell_type": "code",
   "execution_count": 512,
   "id": "9d967776",
   "metadata": {},
   "outputs": [
    {
     "data": {
      "text/html": [
       "<div>\n",
       "<style scoped>\n",
       "    .dataframe tbody tr th:only-of-type {\n",
       "        vertical-align: middle;\n",
       "    }\n",
       "\n",
       "    .dataframe tbody tr th {\n",
       "        vertical-align: top;\n",
       "    }\n",
       "\n",
       "    .dataframe thead th {\n",
       "        text-align: right;\n",
       "    }\n",
       "</style>\n",
       "<table border=\"1\" class=\"dataframe\">\n",
       "  <thead>\n",
       "    <tr style=\"text-align: right;\">\n",
       "      <th></th>\n",
       "      <th>employee_id</th>\n",
       "      <th>department</th>\n",
       "      <th>region</th>\n",
       "      <th>education</th>\n",
       "      <th>gender</th>\n",
       "      <th>recruitment_channel</th>\n",
       "      <th>no_of_trainings</th>\n",
       "      <th>age</th>\n",
       "      <th>previous_year_rating</th>\n",
       "      <th>length_of_service</th>\n",
       "      <th>KPIs_met &gt;80%</th>\n",
       "      <th>awards_won?</th>\n",
       "      <th>avg_training_score</th>\n",
       "      <th>is_promoted</th>\n",
       "      <th>score_binned</th>\n",
       "      <th>no_of_trainings_binned</th>\n",
       "      <th>age_binned</th>\n",
       "      <th>rating_bin</th>\n",
       "    </tr>\n",
       "  </thead>\n",
       "  <tbody>\n",
       "    <tr>\n",
       "      <th>22396</th>\n",
       "      <td>55981</td>\n",
       "      <td>Finance</td>\n",
       "      <td>region_2</td>\n",
       "      <td>Bachelor's</td>\n",
       "      <td>m</td>\n",
       "      <td>sourcing</td>\n",
       "      <td>1</td>\n",
       "      <td>36</td>\n",
       "      <td>3.0</td>\n",
       "      <td>4</td>\n",
       "      <td>1</td>\n",
       "      <td>0</td>\n",
       "      <td>61</td>\n",
       "      <td>0.0</td>\n",
       "      <td>B</td>\n",
       "      <td>A</td>\n",
       "      <td>B</td>\n",
       "      <td>C</td>\n",
       "    </tr>\n",
       "    <tr>\n",
       "      <th>28550</th>\n",
       "      <td>75243</td>\n",
       "      <td>Analytics</td>\n",
       "      <td>region_31</td>\n",
       "      <td>Bachelor's</td>\n",
       "      <td>m</td>\n",
       "      <td>other</td>\n",
       "      <td>1</td>\n",
       "      <td>27</td>\n",
       "      <td>5.0</td>\n",
       "      <td>6</td>\n",
       "      <td>1</td>\n",
       "      <td>0</td>\n",
       "      <td>85</td>\n",
       "      <td>0.0</td>\n",
       "      <td>C</td>\n",
       "      <td>A</td>\n",
       "      <td>A</td>\n",
       "      <td>E</td>\n",
       "    </tr>\n",
       "    <tr>\n",
       "      <th>49503</th>\n",
       "      <td>66258</td>\n",
       "      <td>Analytics</td>\n",
       "      <td>region_19</td>\n",
       "      <td>Bachelor's</td>\n",
       "      <td>m</td>\n",
       "      <td>other</td>\n",
       "      <td>1</td>\n",
       "      <td>38</td>\n",
       "      <td>4.0</td>\n",
       "      <td>12</td>\n",
       "      <td>0</td>\n",
       "      <td>0</td>\n",
       "      <td>84</td>\n",
       "      <td>0.0</td>\n",
       "      <td>C</td>\n",
       "      <td>A</td>\n",
       "      <td>B</td>\n",
       "      <td>D</td>\n",
       "    </tr>\n",
       "    <tr>\n",
       "      <th>19267</th>\n",
       "      <td>1075</td>\n",
       "      <td>Procurement</td>\n",
       "      <td>region_7</td>\n",
       "      <td>Master's &amp; above</td>\n",
       "      <td>f</td>\n",
       "      <td>other</td>\n",
       "      <td>1</td>\n",
       "      <td>34</td>\n",
       "      <td>5.0</td>\n",
       "      <td>4</td>\n",
       "      <td>0</td>\n",
       "      <td>0</td>\n",
       "      <td>65</td>\n",
       "      <td>0.0</td>\n",
       "      <td>B</td>\n",
       "      <td>A</td>\n",
       "      <td>B</td>\n",
       "      <td>E</td>\n",
       "    </tr>\n",
       "    <tr>\n",
       "      <th>36132</th>\n",
       "      <td>25722</td>\n",
       "      <td>Procurement</td>\n",
       "      <td>region_20</td>\n",
       "      <td>Master's &amp; above</td>\n",
       "      <td>m</td>\n",
       "      <td>sourcing</td>\n",
       "      <td>1</td>\n",
       "      <td>40</td>\n",
       "      <td>1.0</td>\n",
       "      <td>7</td>\n",
       "      <td>0</td>\n",
       "      <td>0</td>\n",
       "      <td>69</td>\n",
       "      <td>0.0</td>\n",
       "      <td>B</td>\n",
       "      <td>A</td>\n",
       "      <td>B</td>\n",
       "      <td>A</td>\n",
       "    </tr>\n",
       "  </tbody>\n",
       "</table>\n",
       "</div>"
      ],
      "text/plain": [
       "       employee_id   department     region         education gender  \\\n",
       "22396        55981      Finance   region_2        Bachelor's      m   \n",
       "28550        75243    Analytics  region_31        Bachelor's      m   \n",
       "49503        66258    Analytics  region_19        Bachelor's      m   \n",
       "19267         1075  Procurement   region_7  Master's & above      f   \n",
       "36132        25722  Procurement  region_20  Master's & above      m   \n",
       "\n",
       "      recruitment_channel  no_of_trainings  age  previous_year_rating  \\\n",
       "22396            sourcing                1   36                   3.0   \n",
       "28550               other                1   27                   5.0   \n",
       "49503               other                1   38                   4.0   \n",
       "19267               other                1   34                   5.0   \n",
       "36132            sourcing                1   40                   1.0   \n",
       "\n",
       "       length_of_service  KPIs_met >80%  awards_won?  avg_training_score  \\\n",
       "22396                  4              1            0                  61   \n",
       "28550                  6              1            0                  85   \n",
       "49503                 12              0            0                  84   \n",
       "19267                  4              0            0                  65   \n",
       "36132                  7              0            0                  69   \n",
       "\n",
       "       is_promoted score_binned no_of_trainings_binned age_binned rating_bin  \n",
       "22396          0.0            B                      A          B          C  \n",
       "28550          0.0            C                      A          A          E  \n",
       "49503          0.0            C                      A          B          D  \n",
       "19267          0.0            B                      A          B          E  \n",
       "36132          0.0            B                      A          B          A  "
      ]
     },
     "execution_count": 512,
     "metadata": {},
     "output_type": "execute_result"
    }
   ],
   "source": [
    "bins = [0,1,2,3,4,5]\n",
    "labels = ['A','B','C','D','E']\n",
    "hr['rating_bin']= pd.cut(hr['previous_year_rating'],bins=bins, labels=labels)\n",
    "hr.head()"
   ]
  },
  {
   "cell_type": "code",
   "execution_count": 481,
   "id": "e6e58507",
   "metadata": {},
   "outputs": [
    {
     "data": {
      "text/html": [
       "<div>\n",
       "<style scoped>\n",
       "    .dataframe tbody tr th:only-of-type {\n",
       "        vertical-align: middle;\n",
       "    }\n",
       "\n",
       "    .dataframe tbody tr th {\n",
       "        vertical-align: top;\n",
       "    }\n",
       "\n",
       "    .dataframe thead th {\n",
       "        text-align: right;\n",
       "    }\n",
       "</style>\n",
       "<table border=\"1\" class=\"dataframe\">\n",
       "  <thead>\n",
       "    <tr style=\"text-align: right;\">\n",
       "      <th></th>\n",
       "      <th>employee_id</th>\n",
       "      <th>department</th>\n",
       "      <th>region</th>\n",
       "      <th>education</th>\n",
       "      <th>gender</th>\n",
       "      <th>recruitment_channel</th>\n",
       "      <th>no_of_trainings</th>\n",
       "      <th>age</th>\n",
       "      <th>previous_year_rating</th>\n",
       "      <th>length_of_service</th>\n",
       "      <th>KPIs_met &gt;80%</th>\n",
       "      <th>awards_won?</th>\n",
       "      <th>avg_training_score</th>\n",
       "      <th>is_promoted</th>\n",
       "      <th>score_binned</th>\n",
       "      <th>no_of_trainings_binned</th>\n",
       "      <th>age_binned</th>\n",
       "      <th>rating_bin</th>\n",
       "      <th>service_bin</th>\n",
       "    </tr>\n",
       "  </thead>\n",
       "  <tbody>\n",
       "    <tr>\n",
       "      <th>11559</th>\n",
       "      <td>20442</td>\n",
       "      <td>Operations</td>\n",
       "      <td>region_13</td>\n",
       "      <td>Master's &amp; above</td>\n",
       "      <td>m</td>\n",
       "      <td>sourcing</td>\n",
       "      <td>1</td>\n",
       "      <td>43</td>\n",
       "      <td>4.0</td>\n",
       "      <td>11</td>\n",
       "      <td>1</td>\n",
       "      <td>0</td>\n",
       "      <td>59</td>\n",
       "      <td>0.0</td>\n",
       "      <td>B</td>\n",
       "      <td>A</td>\n",
       "      <td>B</td>\n",
       "      <td>D</td>\n",
       "      <td>C</td>\n",
       "    </tr>\n",
       "    <tr>\n",
       "      <th>30514</th>\n",
       "      <td>78233</td>\n",
       "      <td>Operations</td>\n",
       "      <td>region_4</td>\n",
       "      <td>Bachelor's</td>\n",
       "      <td>f</td>\n",
       "      <td>other</td>\n",
       "      <td>1</td>\n",
       "      <td>46</td>\n",
       "      <td>5.0</td>\n",
       "      <td>2</td>\n",
       "      <td>0</td>\n",
       "      <td>0</td>\n",
       "      <td>60</td>\n",
       "      <td>0.0</td>\n",
       "      <td>B</td>\n",
       "      <td>A</td>\n",
       "      <td>C</td>\n",
       "      <td>E</td>\n",
       "      <td>A</td>\n",
       "    </tr>\n",
       "    <tr>\n",
       "      <th>53835</th>\n",
       "      <td>828</td>\n",
       "      <td>Analytics</td>\n",
       "      <td>region_10</td>\n",
       "      <td>Master's &amp; above</td>\n",
       "      <td>m</td>\n",
       "      <td>sourcing</td>\n",
       "      <td>1</td>\n",
       "      <td>33</td>\n",
       "      <td>5.0</td>\n",
       "      <td>6</td>\n",
       "      <td>1</td>\n",
       "      <td>0</td>\n",
       "      <td>86</td>\n",
       "      <td>0.0</td>\n",
       "      <td>C</td>\n",
       "      <td>A</td>\n",
       "      <td>B</td>\n",
       "      <td>E</td>\n",
       "      <td>B</td>\n",
       "    </tr>\n",
       "    <tr>\n",
       "      <th>50017</th>\n",
       "      <td>69611</td>\n",
       "      <td>Operations</td>\n",
       "      <td>region_2</td>\n",
       "      <td>Bachelor's</td>\n",
       "      <td>f</td>\n",
       "      <td>other</td>\n",
       "      <td>1</td>\n",
       "      <td>32</td>\n",
       "      <td>4.0</td>\n",
       "      <td>3</td>\n",
       "      <td>1</td>\n",
       "      <td>0</td>\n",
       "      <td>63</td>\n",
       "      <td>0.0</td>\n",
       "      <td>B</td>\n",
       "      <td>A</td>\n",
       "      <td>B</td>\n",
       "      <td>D</td>\n",
       "      <td>A</td>\n",
       "    </tr>\n",
       "    <tr>\n",
       "      <th>21487</th>\n",
       "      <td>50271</td>\n",
       "      <td>Technology</td>\n",
       "      <td>region_23</td>\n",
       "      <td>Bachelor's</td>\n",
       "      <td>m</td>\n",
       "      <td>other</td>\n",
       "      <td>1</td>\n",
       "      <td>30</td>\n",
       "      <td>3.0</td>\n",
       "      <td>5</td>\n",
       "      <td>0</td>\n",
       "      <td>0</td>\n",
       "      <td>80</td>\n",
       "      <td>0.0</td>\n",
       "      <td>C</td>\n",
       "      <td>A</td>\n",
       "      <td>A</td>\n",
       "      <td>C</td>\n",
       "      <td>A</td>\n",
       "    </tr>\n",
       "  </tbody>\n",
       "</table>\n",
       "</div>"
      ],
      "text/plain": [
       "       employee_id  department     region         education gender  \\\n",
       "11559        20442  Operations  region_13  Master's & above      m   \n",
       "30514        78233  Operations   region_4        Bachelor's      f   \n",
       "53835          828   Analytics  region_10  Master's & above      m   \n",
       "50017        69611  Operations   region_2        Bachelor's      f   \n",
       "21487        50271  Technology  region_23        Bachelor's      m   \n",
       "\n",
       "      recruitment_channel  no_of_trainings  age  previous_year_rating  \\\n",
       "11559            sourcing                1   43                   4.0   \n",
       "30514               other                1   46                   5.0   \n",
       "53835            sourcing                1   33                   5.0   \n",
       "50017               other                1   32                   4.0   \n",
       "21487               other                1   30                   3.0   \n",
       "\n",
       "       length_of_service  KPIs_met >80%  awards_won?  avg_training_score  \\\n",
       "11559                 11              1            0                  59   \n",
       "30514                  2              0            0                  60   \n",
       "53835                  6              1            0                  86   \n",
       "50017                  3              1            0                  63   \n",
       "21487                  5              0            0                  80   \n",
       "\n",
       "       is_promoted score_binned no_of_trainings_binned age_binned rating_bin  \\\n",
       "11559          0.0            B                      A          B          D   \n",
       "30514          0.0            B                      A          C          E   \n",
       "53835          0.0            C                      A          B          E   \n",
       "50017          0.0            B                      A          B          D   \n",
       "21487          0.0            C                      A          A          C   \n",
       "\n",
       "      service_bin  \n",
       "11559           C  \n",
       "30514           A  \n",
       "53835           B  \n",
       "50017           A  \n",
       "21487           A  "
      ]
     },
     "execution_count": 481,
     "metadata": {},
     "output_type": "execute_result"
    }
   ],
   "source": [
    "bins = [1,5,10,15,20,30,40]\n",
    "labels = ['A','B','C','D','E','F']\n",
    "hr['service_bin']= pd.cut(hr['length_of_service'],bins=bins, labels=labels)\n",
    "hr.head()"
   ]
  },
  {
   "cell_type": "code",
   "execution_count": 513,
   "id": "3b941acb",
   "metadata": {},
   "outputs": [
    {
     "name": "stdout",
     "output_type": "stream",
     "text": [
      "<class 'pandas.core.frame.DataFrame'>\n",
      "Int64Index: 40693 entries, 22396 to 23489\n",
      "Data columns (total 18 columns):\n",
      " #   Column                  Non-Null Count  Dtype   \n",
      "---  ------                  --------------  -----   \n",
      " 0   employee_id             40693 non-null  int64   \n",
      " 1   department              40693 non-null  object  \n",
      " 2   region                  40693 non-null  object  \n",
      " 3   education               40693 non-null  object  \n",
      " 4   gender                  40693 non-null  object  \n",
      " 5   recruitment_channel     40693 non-null  object  \n",
      " 6   no_of_trainings         40693 non-null  int64   \n",
      " 7   age                     40693 non-null  int64   \n",
      " 8   previous_year_rating    40693 non-null  float64 \n",
      " 9   length_of_service       40693 non-null  int64   \n",
      " 10  KPIs_met >80%           40693 non-null  int64   \n",
      " 11  awards_won?             40693 non-null  int64   \n",
      " 12  avg_training_score      40693 non-null  int64   \n",
      " 13  is_promoted             17203 non-null  float64 \n",
      " 14  score_binned            40693 non-null  category\n",
      " 15  no_of_trainings_binned  40693 non-null  category\n",
      " 16  age_binned              40615 non-null  category\n",
      " 17  rating_bin              37606 non-null  category\n",
      "dtypes: category(4), float64(2), int64(7), object(5)\n",
      "memory usage: 4.8+ MB\n"
     ]
    }
   ],
   "source": [
    "hr.info()"
   ]
  },
  {
   "cell_type": "code",
   "execution_count": 387,
   "id": "121f5fcd",
   "metadata": {},
   "outputs": [
    {
     "name": "stdout",
     "output_type": "stream",
     "text": [
      "<class 'pandas.core.frame.DataFrame'>\n",
      "Int64Index: 40693 entries, 12847 to 23489\n",
      "Data columns (total 18 columns):\n",
      " #   Column                  Non-Null Count  Dtype   \n",
      "---  ------                  --------------  -----   \n",
      " 0   employee_id             40693 non-null  int64   \n",
      " 1   department              40693 non-null  object  \n",
      " 2   region                  40693 non-null  object  \n",
      " 3   education               40693 non-null  object  \n",
      " 4   gender                  40693 non-null  object  \n",
      " 5   recruitment_channel     40693 non-null  object  \n",
      " 6   no_of_trainings         40693 non-null  int64   \n",
      " 7   age                     40693 non-null  int64   \n",
      " 8   previous_year_rating    40693 non-null  float64 \n",
      " 9   length_of_service       40693 non-null  int64   \n",
      " 10  KPIs_met >80%           40693 non-null  int64   \n",
      " 11  awards_won?             40693 non-null  int64   \n",
      " 12  avg_training_score      40693 non-null  int64   \n",
      " 13  is_promoted             17203 non-null  float64 \n",
      " 14  score_binned            40693 non-null  category\n",
      " 15  no_of_trainings_binned  40693 non-null  category\n",
      " 16  age_binned              40610 non-null  category\n",
      " 17  rating_bin              40693 non-null  category\n",
      "dtypes: category(4), float64(2), int64(7), object(5)\n",
      "memory usage: 5.8+ MB\n"
     ]
    }
   ],
   "source": [
    "hr.info()"
   ]
  },
  {
   "cell_type": "code",
   "execution_count": 514,
   "id": "30f33bc8",
   "metadata": {},
   "outputs": [],
   "source": [
    "hr.drop(['employee_id','no_of_trainings','avg_training_score','age','previous_year_rating','length_of_service'],axis=1,inplace=True)"
   ]
  },
  {
   "cell_type": "code",
   "execution_count": 431,
   "id": "c0c150c5",
   "metadata": {
    "scrolled": true
   },
   "outputs": [
    {
     "data": {
      "text/html": [
       "<div>\n",
       "<style scoped>\n",
       "    .dataframe tbody tr th:only-of-type {\n",
       "        vertical-align: middle;\n",
       "    }\n",
       "\n",
       "    .dataframe tbody tr th {\n",
       "        vertical-align: top;\n",
       "    }\n",
       "\n",
       "    .dataframe thead th {\n",
       "        text-align: right;\n",
       "    }\n",
       "</style>\n",
       "<table border=\"1\" class=\"dataframe\">\n",
       "  <thead>\n",
       "    <tr style=\"text-align: right;\">\n",
       "      <th></th>\n",
       "      <th>department</th>\n",
       "      <th>region</th>\n",
       "      <th>education</th>\n",
       "      <th>gender</th>\n",
       "      <th>recruitment_channel</th>\n",
       "      <th>KPIs_met &gt;80%</th>\n",
       "      <th>awards_won?</th>\n",
       "      <th>is_promoted</th>\n",
       "      <th>score_binned</th>\n",
       "      <th>no_of_trainings_binned</th>\n",
       "      <th>age_binned</th>\n",
       "      <th>rating_bin</th>\n",
       "      <th>service_bin</th>\n",
       "    </tr>\n",
       "  </thead>\n",
       "  <tbody>\n",
       "    <tr>\n",
       "      <th>25671</th>\n",
       "      <td>Operations</td>\n",
       "      <td>region_2</td>\n",
       "      <td>Bachelor's</td>\n",
       "      <td>f</td>\n",
       "      <td>other</td>\n",
       "      <td>0</td>\n",
       "      <td>0</td>\n",
       "      <td>0.0</td>\n",
       "      <td>B</td>\n",
       "      <td>A</td>\n",
       "      <td>A</td>\n",
       "      <td>D</td>\n",
       "      <td>NaN</td>\n",
       "    </tr>\n",
       "    <tr>\n",
       "      <th>2518</th>\n",
       "      <td>Sales &amp; Marketing</td>\n",
       "      <td>region_31</td>\n",
       "      <td>Bachelor's</td>\n",
       "      <td>m</td>\n",
       "      <td>other</td>\n",
       "      <td>0</td>\n",
       "      <td>0</td>\n",
       "      <td>0.0</td>\n",
       "      <td>B</td>\n",
       "      <td>A</td>\n",
       "      <td>B</td>\n",
       "      <td>A</td>\n",
       "      <td>A</td>\n",
       "    </tr>\n",
       "    <tr>\n",
       "      <th>5729</th>\n",
       "      <td>Analytics</td>\n",
       "      <td>region_25</td>\n",
       "      <td>Master's &amp; above</td>\n",
       "      <td>m</td>\n",
       "      <td>sourcing</td>\n",
       "      <td>0</td>\n",
       "      <td>0</td>\n",
       "      <td>0.0</td>\n",
       "      <td>C</td>\n",
       "      <td>A</td>\n",
       "      <td>B</td>\n",
       "      <td>C</td>\n",
       "      <td>B</td>\n",
       "    </tr>\n",
       "    <tr>\n",
       "      <th>43952</th>\n",
       "      <td>Technology</td>\n",
       "      <td>region_28</td>\n",
       "      <td>Master's &amp; above</td>\n",
       "      <td>f</td>\n",
       "      <td>sourcing</td>\n",
       "      <td>0</td>\n",
       "      <td>0</td>\n",
       "      <td>0.0</td>\n",
       "      <td>C</td>\n",
       "      <td>A</td>\n",
       "      <td>B</td>\n",
       "      <td>C</td>\n",
       "      <td>B</td>\n",
       "    </tr>\n",
       "    <tr>\n",
       "      <th>9398</th>\n",
       "      <td>Sales &amp; Marketing</td>\n",
       "      <td>region_1</td>\n",
       "      <td>Master's &amp; above</td>\n",
       "      <td>m</td>\n",
       "      <td>sourcing</td>\n",
       "      <td>0</td>\n",
       "      <td>0</td>\n",
       "      <td>0.0</td>\n",
       "      <td>A</td>\n",
       "      <td>B</td>\n",
       "      <td>B</td>\n",
       "      <td>C</td>\n",
       "      <td>A</td>\n",
       "    </tr>\n",
       "  </tbody>\n",
       "</table>\n",
       "</div>"
      ],
      "text/plain": [
       "              department     region         education gender  \\\n",
       "25671         Operations   region_2        Bachelor's      f   \n",
       "2518   Sales & Marketing  region_31        Bachelor's      m   \n",
       "5729           Analytics  region_25  Master's & above      m   \n",
       "43952         Technology  region_28  Master's & above      f   \n",
       "9398   Sales & Marketing   region_1  Master's & above      m   \n",
       "\n",
       "      recruitment_channel  KPIs_met >80%  awards_won?  is_promoted  \\\n",
       "25671               other              0            0          0.0   \n",
       "2518                other              0            0          0.0   \n",
       "5729             sourcing              0            0          0.0   \n",
       "43952            sourcing              0            0          0.0   \n",
       "9398             sourcing              0            0          0.0   \n",
       "\n",
       "      score_binned no_of_trainings_binned age_binned rating_bin service_bin  \n",
       "25671            B                      A          A          D         NaN  \n",
       "2518             B                      A          B          A           A  \n",
       "5729             C                      A          B          C           B  \n",
       "43952            C                      A          B          C           B  \n",
       "9398             A                      B          B          C           A  "
      ]
     },
     "execution_count": 431,
     "metadata": {},
     "output_type": "execute_result"
    }
   ],
   "source": [
    "hr.head()"
   ]
  },
  {
   "cell_type": "markdown",
   "id": "3312e6cb",
   "metadata": {},
   "source": [
    "#### One hot encoding"
   ]
  },
  {
   "cell_type": "code",
   "execution_count": 515,
   "id": "547da67f",
   "metadata": {},
   "outputs": [],
   "source": [
    "hr=pd.get_dummies(hr)"
   ]
  },
  {
   "cell_type": "code",
   "execution_count": 516,
   "id": "12a5d0cf",
   "metadata": {},
   "outputs": [
    {
     "data": {
      "text/html": [
       "<div>\n",
       "<style scoped>\n",
       "    .dataframe tbody tr th:only-of-type {\n",
       "        vertical-align: middle;\n",
       "    }\n",
       "\n",
       "    .dataframe tbody tr th {\n",
       "        vertical-align: top;\n",
       "    }\n",
       "\n",
       "    .dataframe thead th {\n",
       "        text-align: right;\n",
       "    }\n",
       "</style>\n",
       "<table border=\"1\" class=\"dataframe\">\n",
       "  <thead>\n",
       "    <tr style=\"text-align: right;\">\n",
       "      <th></th>\n",
       "      <th>KPIs_met &gt;80%</th>\n",
       "      <th>awards_won?</th>\n",
       "      <th>is_promoted</th>\n",
       "      <th>department_Analytics</th>\n",
       "      <th>department_Finance</th>\n",
       "      <th>department_HR</th>\n",
       "      <th>department_Legal</th>\n",
       "      <th>department_Operations</th>\n",
       "      <th>department_Procurement</th>\n",
       "      <th>department_R&amp;D</th>\n",
       "      <th>...</th>\n",
       "      <th>no_of_trainings_binned_D</th>\n",
       "      <th>age_binned_A</th>\n",
       "      <th>age_binned_B</th>\n",
       "      <th>age_binned_C</th>\n",
       "      <th>age_binned_D</th>\n",
       "      <th>rating_bin_A</th>\n",
       "      <th>rating_bin_B</th>\n",
       "      <th>rating_bin_C</th>\n",
       "      <th>rating_bin_D</th>\n",
       "      <th>rating_bin_E</th>\n",
       "    </tr>\n",
       "  </thead>\n",
       "  <tbody>\n",
       "    <tr>\n",
       "      <th>22396</th>\n",
       "      <td>1</td>\n",
       "      <td>0</td>\n",
       "      <td>0.0</td>\n",
       "      <td>0</td>\n",
       "      <td>1</td>\n",
       "      <td>0</td>\n",
       "      <td>0</td>\n",
       "      <td>0</td>\n",
       "      <td>0</td>\n",
       "      <td>0</td>\n",
       "      <td>...</td>\n",
       "      <td>0</td>\n",
       "      <td>0</td>\n",
       "      <td>1</td>\n",
       "      <td>0</td>\n",
       "      <td>0</td>\n",
       "      <td>0</td>\n",
       "      <td>0</td>\n",
       "      <td>1</td>\n",
       "      <td>0</td>\n",
       "      <td>0</td>\n",
       "    </tr>\n",
       "    <tr>\n",
       "      <th>28550</th>\n",
       "      <td>1</td>\n",
       "      <td>0</td>\n",
       "      <td>0.0</td>\n",
       "      <td>1</td>\n",
       "      <td>0</td>\n",
       "      <td>0</td>\n",
       "      <td>0</td>\n",
       "      <td>0</td>\n",
       "      <td>0</td>\n",
       "      <td>0</td>\n",
       "      <td>...</td>\n",
       "      <td>0</td>\n",
       "      <td>1</td>\n",
       "      <td>0</td>\n",
       "      <td>0</td>\n",
       "      <td>0</td>\n",
       "      <td>0</td>\n",
       "      <td>0</td>\n",
       "      <td>0</td>\n",
       "      <td>0</td>\n",
       "      <td>1</td>\n",
       "    </tr>\n",
       "    <tr>\n",
       "      <th>49503</th>\n",
       "      <td>0</td>\n",
       "      <td>0</td>\n",
       "      <td>0.0</td>\n",
       "      <td>1</td>\n",
       "      <td>0</td>\n",
       "      <td>0</td>\n",
       "      <td>0</td>\n",
       "      <td>0</td>\n",
       "      <td>0</td>\n",
       "      <td>0</td>\n",
       "      <td>...</td>\n",
       "      <td>0</td>\n",
       "      <td>0</td>\n",
       "      <td>1</td>\n",
       "      <td>0</td>\n",
       "      <td>0</td>\n",
       "      <td>0</td>\n",
       "      <td>0</td>\n",
       "      <td>0</td>\n",
       "      <td>1</td>\n",
       "      <td>0</td>\n",
       "    </tr>\n",
       "    <tr>\n",
       "      <th>19267</th>\n",
       "      <td>0</td>\n",
       "      <td>0</td>\n",
       "      <td>0.0</td>\n",
       "      <td>0</td>\n",
       "      <td>0</td>\n",
       "      <td>0</td>\n",
       "      <td>0</td>\n",
       "      <td>0</td>\n",
       "      <td>1</td>\n",
       "      <td>0</td>\n",
       "      <td>...</td>\n",
       "      <td>0</td>\n",
       "      <td>0</td>\n",
       "      <td>1</td>\n",
       "      <td>0</td>\n",
       "      <td>0</td>\n",
       "      <td>0</td>\n",
       "      <td>0</td>\n",
       "      <td>0</td>\n",
       "      <td>0</td>\n",
       "      <td>1</td>\n",
       "    </tr>\n",
       "    <tr>\n",
       "      <th>36132</th>\n",
       "      <td>0</td>\n",
       "      <td>0</td>\n",
       "      <td>0.0</td>\n",
       "      <td>0</td>\n",
       "      <td>0</td>\n",
       "      <td>0</td>\n",
       "      <td>0</td>\n",
       "      <td>0</td>\n",
       "      <td>1</td>\n",
       "      <td>0</td>\n",
       "      <td>...</td>\n",
       "      <td>0</td>\n",
       "      <td>0</td>\n",
       "      <td>1</td>\n",
       "      <td>0</td>\n",
       "      <td>0</td>\n",
       "      <td>1</td>\n",
       "      <td>0</td>\n",
       "      <td>0</td>\n",
       "      <td>0</td>\n",
       "      <td>0</td>\n",
       "    </tr>\n",
       "  </tbody>\n",
       "</table>\n",
       "<p>5 rows × 71 columns</p>\n",
       "</div>"
      ],
      "text/plain": [
       "       KPIs_met >80%  awards_won?  is_promoted  department_Analytics  \\\n",
       "22396              1            0          0.0                     0   \n",
       "28550              1            0          0.0                     1   \n",
       "49503              0            0          0.0                     1   \n",
       "19267              0            0          0.0                     0   \n",
       "36132              0            0          0.0                     0   \n",
       "\n",
       "       department_Finance  department_HR  department_Legal  \\\n",
       "22396                   1              0                 0   \n",
       "28550                   0              0                 0   \n",
       "49503                   0              0                 0   \n",
       "19267                   0              0                 0   \n",
       "36132                   0              0                 0   \n",
       "\n",
       "       department_Operations  department_Procurement  department_R&D  ...  \\\n",
       "22396                      0                       0               0  ...   \n",
       "28550                      0                       0               0  ...   \n",
       "49503                      0                       0               0  ...   \n",
       "19267                      0                       1               0  ...   \n",
       "36132                      0                       1               0  ...   \n",
       "\n",
       "       no_of_trainings_binned_D  age_binned_A  age_binned_B  age_binned_C  \\\n",
       "22396                         0             0             1             0   \n",
       "28550                         0             1             0             0   \n",
       "49503                         0             0             1             0   \n",
       "19267                         0             0             1             0   \n",
       "36132                         0             0             1             0   \n",
       "\n",
       "       age_binned_D  rating_bin_A  rating_bin_B  rating_bin_C  rating_bin_D  \\\n",
       "22396             0             0             0             1             0   \n",
       "28550             0             0             0             0             0   \n",
       "49503             0             0             0             0             1   \n",
       "19267             0             0             0             0             0   \n",
       "36132             0             1             0             0             0   \n",
       "\n",
       "       rating_bin_E  \n",
       "22396             0  \n",
       "28550             1  \n",
       "49503             0  \n",
       "19267             1  \n",
       "36132             0  \n",
       "\n",
       "[5 rows x 71 columns]"
      ]
     },
     "execution_count": 516,
     "metadata": {},
     "output_type": "execute_result"
    }
   ],
   "source": [
    "hr.head()"
   ]
  },
  {
   "cell_type": "markdown",
   "id": "2d5c20f4",
   "metadata": {},
   "source": [
    "#### Preparing dataset for training model and testing"
   ]
  },
  {
   "cell_type": "code",
   "execution_count": 517,
   "id": "25167513",
   "metadata": {},
   "outputs": [],
   "source": [
    "test_cl=hr[hr['is_promoted'].isnull()]\n",
    "train_cl=hr[hr['is_promoted'].notnull()]"
   ]
  },
  {
   "cell_type": "code",
   "execution_count": 518,
   "id": "4e774b02",
   "metadata": {},
   "outputs": [],
   "source": [
    "X=train_cl.drop('is_promoted',axis=1)#splitting the dataset into x=independent variable,y=dependent variable\n",
    "Y=train_cl['is_promoted']"
   ]
  },
  {
   "cell_type": "code",
   "execution_count": 519,
   "id": "b92c2e88",
   "metadata": {},
   "outputs": [],
   "source": [
    "from sklearn.model_selection import train_test_split\n",
    "X_train,X_test,Y_train,Y_test=train_test_split(X,Y,test_size=0.2,random_state=123)"
   ]
  },
  {
   "cell_type": "code",
   "execution_count": 521,
   "id": "0684630e",
   "metadata": {},
   "outputs": [],
   "source": [
    "test_cl=test_cl.drop(\"is_promoted\",axis=1)"
   ]
  },
  {
   "cell_type": "markdown",
   "id": "776e8b7b",
   "metadata": {},
   "source": [
    "#### Training Model in splitted train dataset"
   ]
  },
  {
   "cell_type": "code",
   "execution_count": 522,
   "id": "a42a9ce9",
   "metadata": {},
   "outputs": [],
   "source": [
    "from sklearn.linear_model import LogisticRegression\n",
    "lr=LogisticRegression()"
   ]
  },
  {
   "cell_type": "code",
   "execution_count": 523,
   "id": "943e5afc",
   "metadata": {},
   "outputs": [
    {
     "data": {
      "text/plain": [
       "LogisticRegression()"
      ]
     },
     "execution_count": 523,
     "metadata": {},
     "output_type": "execute_result"
    }
   ],
   "source": [
    "lr.fit(X_train,Y_train)"
   ]
  },
  {
   "cell_type": "markdown",
   "id": "7264601f",
   "metadata": {},
   "source": [
    "#### Predicting promotions on splitted train dataset"
   ]
  },
  {
   "cell_type": "code",
   "execution_count": 524,
   "id": "d1961dc0",
   "metadata": {},
   "outputs": [
    {
     "data": {
      "text/plain": [
       "array([0., 0., 0., ..., 0., 0., 0.])"
      ]
     },
     "execution_count": 524,
     "metadata": {},
     "output_type": "execute_result"
    }
   ],
   "source": [
    "pred_labels=lr.predict(X_test)\n",
    "pred_labels"
   ]
  },
  {
   "cell_type": "markdown",
   "id": "885b2b82",
   "metadata": {},
   "source": [
    "#### Checking acciracy and other measures of model"
   ]
  },
  {
   "cell_type": "code",
   "execution_count": 525,
   "id": "0c312286",
   "metadata": {},
   "outputs": [
    {
     "data": {
      "text/plain": [
       "0.7858180761406568"
      ]
     },
     "execution_count": 525,
     "metadata": {},
     "output_type": "execute_result"
    }
   ],
   "source": [
    "from sklearn.metrics import accuracy_score,confusion_matrix,classification_report\n",
    "accuracy_score(Y_test,pred_labels)"
   ]
  },
  {
   "cell_type": "code",
   "execution_count": 526,
   "id": "f19e6f97",
   "metadata": {},
   "outputs": [
    {
     "name": "stdout",
     "output_type": "stream",
     "text": [
      "              precision    recall  f1-score   support\n",
      "\n",
      "         0.0       0.81      0.92      0.86      2505\n",
      "         1.0       0.67      0.42      0.51       936\n",
      "\n",
      "    accuracy                           0.79      3441\n",
      "   macro avg       0.74      0.67      0.69      3441\n",
      "weighted avg       0.77      0.79      0.77      3441\n",
      "\n"
     ]
    }
   ],
   "source": [
    "x=classification_report(Y_test,pred_labels)\n",
    "print(x)"
   ]
  },
  {
   "cell_type": "markdown",
   "id": "403aa5d3",
   "metadata": {},
   "source": [
    "#### Predicting on test dataset"
   ]
  },
  {
   "cell_type": "code",
   "execution_count": 527,
   "id": "a24fff65",
   "metadata": {},
   "outputs": [
    {
     "data": {
      "text/plain": [
       "array([0., 0., 0., ..., 0., 0., 1.])"
      ]
     },
     "execution_count": 527,
     "metadata": {},
     "output_type": "execute_result"
    }
   ],
   "source": [
    "pred_labels=lr.predict(test_cl)\n",
    "pred_labels"
   ]
  },
  {
   "cell_type": "markdown",
   "id": "77ecb658",
   "metadata": {},
   "source": [
    "#### Exporting output file"
   ]
  },
  {
   "cell_type": "code",
   "execution_count": 528,
   "id": "57917353",
   "metadata": {},
   "outputs": [],
   "source": [
    "predicted=pd.concat([test_cl,pd.DataFrame(pred_labels)],axis=1)"
   ]
  },
  {
   "cell_type": "code",
   "execution_count": 529,
   "id": "f7be0904",
   "metadata": {},
   "outputs": [],
   "source": [
    "predicted.to_csv(\"logisticoutput010503.csv\")"
   ]
  },
  {
   "cell_type": "code",
   "execution_count": null,
   "id": "cb5d87f5",
   "metadata": {},
   "outputs": [],
   "source": []
  }
 ],
 "metadata": {
  "kernelspec": {
   "display_name": "Python 3",
   "language": "python",
   "name": "python3"
  },
  "language_info": {
   "codemirror_mode": {
    "name": "ipython",
    "version": 3
   },
   "file_extension": ".py",
   "mimetype": "text/x-python",
   "name": "python",
   "nbconvert_exporter": "python",
   "pygments_lexer": "ipython3",
   "version": "3.8.8"
  }
 },
 "nbformat": 4,
 "nbformat_minor": 5
}
