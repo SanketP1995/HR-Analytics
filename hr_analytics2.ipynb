{
 "cells": [
  {
   "cell_type": "code",
   "execution_count": 1,
   "id": "1afdc23a",
   "metadata": {},
   "outputs": [],
   "source": [
    "import pandas as pd\n",
    "import numpy as np \n",
    "import matplotlib.pyplot as plt\n",
    "import seaborn as sns\n",
    "import warnings\n",
    "warnings.filterwarnings(\"ignore\")\n",
    "%matplotlib inline"
   ]
  },
  {
   "cell_type": "code",
   "execution_count": 2,
   "id": "0370341d",
   "metadata": {},
   "outputs": [],
   "source": [
    "train=pd.read_csv(r'C:\\Users\\Admin\\Desktop\\hr analytics\\hranalyticstrain.csv')"
   ]
  },
  {
   "cell_type": "code",
   "execution_count": 3,
   "id": "751b6be0",
   "metadata": {},
   "outputs": [],
   "source": [
    "test=pd.read_csv(r'C:\\Users\\Admin\\Desktop\\hr analytics\\hranalyticstest.csv')"
   ]
  },
  {
   "cell_type": "code",
   "execution_count": 4,
   "id": "31469b15",
   "metadata": {},
   "outputs": [],
   "source": [
    "hr=train.append(test)"
   ]
  },
  {
   "cell_type": "code",
   "execution_count": 5,
   "id": "3aa475a6",
   "metadata": {},
   "outputs": [
    {
     "name": "stdout",
     "output_type": "stream",
     "text": [
      "<class 'pandas.core.frame.DataFrame'>\n",
      "Int64Index: 78298 entries, 0 to 23489\n",
      "Data columns (total 14 columns):\n",
      " #   Column                Non-Null Count  Dtype  \n",
      "---  ------                --------------  -----  \n",
      " 0   employee_id           78298 non-null  int64  \n",
      " 1   department            78298 non-null  object \n",
      " 2   region                78298 non-null  object \n",
      " 3   education             74855 non-null  object \n",
      " 4   gender                78298 non-null  object \n",
      " 5   recruitment_channel   78298 non-null  object \n",
      " 6   no_of_trainings       78298 non-null  int64  \n",
      " 7   age                   78298 non-null  int64  \n",
      " 8   previous_year_rating  72362 non-null  float64\n",
      " 9   length_of_service     78298 non-null  int64  \n",
      " 10  KPIs_met >80%         78298 non-null  int64  \n",
      " 11  awards_won?           78298 non-null  int64  \n",
      " 12  avg_training_score    78298 non-null  int64  \n",
      " 13  is_promoted           54808 non-null  float64\n",
      "dtypes: float64(2), int64(7), object(5)\n",
      "memory usage: 9.0+ MB\n"
     ]
    }
   ],
   "source": [
    "hr.info()"
   ]
  },
  {
   "cell_type": "code",
   "execution_count": 6,
   "id": "dc2ecb22",
   "metadata": {},
   "outputs": [],
   "source": [
    "hr['education']=np.where(hr.education.isnull(),\"Bachelor's\",hr.education)"
   ]
  },
  {
   "cell_type": "code",
   "execution_count": 7,
   "id": "87511798",
   "metadata": {},
   "outputs": [
    {
     "data": {
      "text/plain": [
       "0"
      ]
     },
     "execution_count": 7,
     "metadata": {},
     "output_type": "execute_result"
    }
   ],
   "source": [
    "hr['education'].isnull().sum()"
   ]
  },
  {
   "cell_type": "code",
   "execution_count": null,
   "id": "82885b10",
   "metadata": {},
   "outputs": [],
   "source": []
  },
  {
   "cell_type": "markdown",
   "id": "7519b441",
   "metadata": {},
   "source": [
    "#### univariate analysis-categorical"
   ]
  },
  {
   "cell_type": "code",
   "execution_count": 8,
   "id": "3bf2b13d",
   "metadata": {},
   "outputs": [
    {
     "data": {
      "text/plain": [
       "5936"
      ]
     },
     "execution_count": 8,
     "metadata": {},
     "output_type": "execute_result"
    }
   ],
   "source": [
    "hr['previous_year_rating'].isnull().sum()"
   ]
  },
  {
   "cell_type": "code",
   "execution_count": 9,
   "id": "5f64530e",
   "metadata": {},
   "outputs": [
    {
     "data": {
      "text/plain": [
       "3.0    26539\n",
       "5.0    16838\n",
       "4.0    14126\n",
       "1.0     8903\n",
       "2.0     5956\n",
       "Name: previous_year_rating, dtype: int64"
      ]
     },
     "execution_count": 9,
     "metadata": {},
     "output_type": "execute_result"
    }
   ],
   "source": [
    "hr['previous_year_rating'].value_counts()"
   ]
  },
  {
   "cell_type": "code",
   "execution_count": 13,
   "id": "7d0a12a6",
   "metadata": {},
   "outputs": [
    {
     "data": {
      "text/plain": [
       "<AxesSubplot:xlabel='previous_year_rating', ylabel='Density'>"
      ]
     },
     "execution_count": 13,
     "metadata": {},
     "output_type": "execute_result"
    },
    {
     "data": {
      "image/png": "[encoded data removed]",
      "text/plain": [
       "<Figure size 432x288 with 1 Axes>"
      ]
     },
     "metadata": {
      "needs_background": "light"
     },
     "output_type": "display_data"
    }
   ],
   "source": [
    "sns.distplot(hr['previous_year_rating'])"
   ]
  },
  {
   "cell_type": "code",
   "execution_count": 14,
   "id": "5f93a884",
   "metadata": {},
   "outputs": [
    {
     "data": {
      "text/plain": [
       "<AxesSubplot:xlabel='KPIs_met >80%', ylabel='Density'>"
      ]
     },
     "execution_count": 14,
     "metadata": {},
     "output_type": "execute_result"
    },
    {
     "data": {
      "image/png": "[encoded data removed]",
      "text/plain": [
       "<Figure size 432x288 with 1 Axes>"
      ]
     },
     "metadata": {
      "needs_background": "light"
     },
     "output_type": "display_data"
    }
   ],
   "source": [
    "sns.distplot(hr['KPIs_met >80%'])"
   ]
  },
  {
   "cell_type": "code",
   "execution_count": 15,
   "id": "4b2e9342",
   "metadata": {},
   "outputs": [
    {
     "data": {
      "text/plain": [
       "<AxesSubplot:xlabel='avg_training_score', ylabel='Density'>"
      ]
     },
     "execution_count": 15,
     "metadata": {},
     "output_type": "execute_result"
    },
    {
     "data": {
      "image/png": "[encoded data removed]",
      "text/plain": [
       "<Figure size 432x288 with 1 Axes>"
      ]
     },
     "metadata": {
      "needs_background": "light"
     },
     "output_type": "display_data"
    }
   ],
   "source": [
    "sns.distplot(hr['avg_training_score'])"
   ]
  },
  {
   "cell_type": "code",
   "execution_count": 16,
   "id": "cd6fd0a8",
   "metadata": {},
   "outputs": [
    {
     "data": {
      "text/plain": [
       "count    78298.000000\n",
       "mean        63.349664\n",
       "std         13.383664\n",
       "min         39.000000\n",
       "25%         51.000000\n",
       "50%         60.000000\n",
       "75%         76.000000\n",
       "max         99.000000\n",
       "Name: avg_training_score, dtype: float64"
      ]
     },
     "execution_count": 16,
     "metadata": {},
     "output_type": "execute_result"
    }
   ],
   "source": [
    "hr['avg_training_score'].describe()#"
   ]
  },
  {
   "cell_type": "code",
   "execution_count": 10,
   "id": "55735c7d",
   "metadata": {},
   "outputs": [
    {
     "data": {
      "text/html": [
       "<div>\n",
       "<style scoped>\n",
       "    .dataframe tbody tr th:only-of-type {\n",
       "        vertical-align: middle;\n",
       "    }\n",
       "\n",
       "    .dataframe tbody tr th {\n",
       "        vertical-align: top;\n",
       "    }\n",
       "\n",
       "    .dataframe thead th {\n",
       "        text-align: right;\n",
       "    }\n",
       "</style>\n",
       "<table border=\"1\" class=\"dataframe\">\n",
       "  <thead>\n",
       "    <tr style=\"text-align: right;\">\n",
       "      <th></th>\n",
       "      <th>employee_id</th>\n",
       "      <th>department</th>\n",
       "      <th>region</th>\n",
       "      <th>education</th>\n",
       "      <th>gender</th>\n",
       "      <th>recruitment_channel</th>\n",
       "      <th>no_of_trainings</th>\n",
       "      <th>age</th>\n",
       "      <th>previous_year_rating</th>\n",
       "      <th>length_of_service</th>\n",
       "      <th>KPIs_met &gt;80%</th>\n",
       "      <th>awards_won?</th>\n",
       "      <th>avg_training_score</th>\n",
       "      <th>is_promoted</th>\n",
       "      <th>binned</th>\n",
       "    </tr>\n",
       "  </thead>\n",
       "  <tbody>\n",
       "    <tr>\n",
       "      <th>0</th>\n",
       "      <td>65438</td>\n",
       "      <td>Sales &amp; Marketing</td>\n",
       "      <td>region_7</td>\n",
       "      <td>Master's &amp; above</td>\n",
       "      <td>f</td>\n",
       "      <td>sourcing</td>\n",
       "      <td>1</td>\n",
       "      <td>35</td>\n",
       "      <td>5.0</td>\n",
       "      <td>8</td>\n",
       "      <td>1</td>\n",
       "      <td>0</td>\n",
       "      <td>49</td>\n",
       "      <td>0.0</td>\n",
       "      <td>A</td>\n",
       "    </tr>\n",
       "    <tr>\n",
       "      <th>1</th>\n",
       "      <td>65141</td>\n",
       "      <td>Operations</td>\n",
       "      <td>region_22</td>\n",
       "      <td>Bachelor's</td>\n",
       "      <td>m</td>\n",
       "      <td>other</td>\n",
       "      <td>1</td>\n",
       "      <td>30</td>\n",
       "      <td>5.0</td>\n",
       "      <td>4</td>\n",
       "      <td>0</td>\n",
       "      <td>0</td>\n",
       "      <td>60</td>\n",
       "      <td>0.0</td>\n",
       "      <td>B</td>\n",
       "    </tr>\n",
       "    <tr>\n",
       "      <th>2</th>\n",
       "      <td>7513</td>\n",
       "      <td>Sales &amp; Marketing</td>\n",
       "      <td>region_19</td>\n",
       "      <td>Bachelor's</td>\n",
       "      <td>m</td>\n",
       "      <td>sourcing</td>\n",
       "      <td>1</td>\n",
       "      <td>34</td>\n",
       "      <td>3.0</td>\n",
       "      <td>7</td>\n",
       "      <td>0</td>\n",
       "      <td>0</td>\n",
       "      <td>50</td>\n",
       "      <td>0.0</td>\n",
       "      <td>A</td>\n",
       "    </tr>\n",
       "    <tr>\n",
       "      <th>3</th>\n",
       "      <td>2542</td>\n",
       "      <td>Sales &amp; Marketing</td>\n",
       "      <td>region_23</td>\n",
       "      <td>Bachelor's</td>\n",
       "      <td>m</td>\n",
       "      <td>other</td>\n",
       "      <td>2</td>\n",
       "      <td>39</td>\n",
       "      <td>1.0</td>\n",
       "      <td>10</td>\n",
       "      <td>0</td>\n",
       "      <td>0</td>\n",
       "      <td>50</td>\n",
       "      <td>0.0</td>\n",
       "      <td>A</td>\n",
       "    </tr>\n",
       "    <tr>\n",
       "      <th>4</th>\n",
       "      <td>48945</td>\n",
       "      <td>Technology</td>\n",
       "      <td>region_26</td>\n",
       "      <td>Bachelor's</td>\n",
       "      <td>m</td>\n",
       "      <td>other</td>\n",
       "      <td>1</td>\n",
       "      <td>45</td>\n",
       "      <td>3.0</td>\n",
       "      <td>2</td>\n",
       "      <td>0</td>\n",
       "      <td>0</td>\n",
       "      <td>73</td>\n",
       "      <td>0.0</td>\n",
       "      <td>C</td>\n",
       "    </tr>\n",
       "  </tbody>\n",
       "</table>\n",
       "</div>"
      ],
      "text/plain": [
       "   employee_id         department     region         education gender  \\\n",
       "0        65438  Sales & Marketing   region_7  Master's & above      f   \n",
       "1        65141         Operations  region_22        Bachelor's      m   \n",
       "2         7513  Sales & Marketing  region_19        Bachelor's      m   \n",
       "3         2542  Sales & Marketing  region_23        Bachelor's      m   \n",
       "4        48945         Technology  region_26        Bachelor's      m   \n",
       "\n",
       "  recruitment_channel  no_of_trainings  age  previous_year_rating  \\\n",
       "0            sourcing                1   35                   5.0   \n",
       "1               other                1   30                   5.0   \n",
       "2            sourcing                1   34                   3.0   \n",
       "3               other                2   39                   1.0   \n",
       "4               other                1   45                   3.0   \n",
       "\n",
       "   length_of_service  KPIs_met >80%  awards_won?  avg_training_score  \\\n",
       "0                  8              1            0                  49   \n",
       "1                  4              0            0                  60   \n",
       "2                  7              0            0                  50   \n",
       "3                 10              0            0                  50   \n",
       "4                  2              0            0                  73   \n",
       "\n",
       "   is_promoted binned  \n",
       "0          0.0      A  \n",
       "1          0.0      B  \n",
       "2          0.0      A  \n",
       "3          0.0      A  \n",
       "4          0.0      C  "
      ]
     },
     "execution_count": 10,
     "metadata": {},
     "output_type": "execute_result"
    }
   ],
   "source": [
    "bins = [30,50,70,90,100]\n",
    "labels = ['A','B','C','D']\n",
    "hr['binned']= pd.cut(hr['avg_training_score'],bins=bins, labels=labels)\n",
    "hr.head()"
   ]
  },
  {
   "cell_type": "code",
   "execution_count": 11,
   "id": "774fd957",
   "metadata": {},
   "outputs": [],
   "source": [
    "hr['previous_year_rating']=hr['previous_year_rating'].fillna(hr['previous_year_rating'].groupby(hr['binned']).transform('mean'))"
   ]
  },
  {
   "cell_type": "code",
   "execution_count": 12,
   "id": "56d27390",
   "metadata": {},
   "outputs": [
    {
     "data": {
      "text/plain": [
       "0"
      ]
     },
     "execution_count": 12,
     "metadata": {},
     "output_type": "execute_result"
    }
   ],
   "source": [
    "hr['previous_year_rating'].isnull().sum()"
   ]
  },
  {
   "cell_type": "code",
   "execution_count": 13,
   "id": "e6e58507",
   "metadata": {},
   "outputs": [
    {
     "data": {
      "text/plain": [
       "count    78298.000000\n",
       "mean         3.331692\n",
       "std          1.212819\n",
       "min          1.000000\n",
       "25%          3.000000\n",
       "50%          3.000000\n",
       "75%          4.000000\n",
       "max          5.000000\n",
       "Name: previous_year_rating, dtype: float64"
      ]
     },
     "execution_count": 13,
     "metadata": {},
     "output_type": "execute_result"
    }
   ],
   "source": [
    "hr['previous_year_rating'].describe()"
   ]
  },
  {
   "cell_type": "code",
   "execution_count": 49,
   "id": "3b941acb",
   "metadata": {},
   "outputs": [
    {
     "name": "stdout",
     "output_type": "stream",
     "text": [
      "<class 'pandas.core.frame.DataFrame'>\n",
      "Int64Index: 78298 entries, 0 to 23489\n",
      "Data columns (total 15 columns):\n",
      " #   Column                Non-Null Count  Dtype   \n",
      "---  ------                --------------  -----   \n",
      " 0   employee_id           78298 non-null  int64   \n",
      " 1   department            78298 non-null  object  \n",
      " 2   region                78298 non-null  object  \n",
      " 3   education             78298 non-null  object  \n",
      " 4   gender                78298 non-null  object  \n",
      " 5   recruitment_channel   78298 non-null  object  \n",
      " 6   no_of_trainings       78298 non-null  int64   \n",
      " 7   age                   78298 non-null  int64   \n",
      " 8   previous_year_rating  78298 non-null  float64 \n",
      " 9   length_of_service     78298 non-null  int64   \n",
      " 10  KPIs_met >80%         78298 non-null  int64   \n",
      " 11  awards_won?           78298 non-null  int64   \n",
      " 12  avg_training_score    78298 non-null  int64   \n",
      " 13  is_promoted           54808 non-null  float64 \n",
      " 14  binned                78298 non-null  category\n",
      "dtypes: category(1), float64(2), int64(7), object(5)\n",
      "memory usage: 11.1+ MB\n"
     ]
    }
   ],
   "source": [
    "hr.info()"
   ]
  },
  {
   "cell_type": "code",
   "execution_count": 14,
   "id": "1397f960",
   "metadata": {},
   "outputs": [
    {
     "data": {
      "text/plain": [
       "24.0"
      ]
     },
     "execution_count": 14,
     "metadata": {},
     "output_type": "execute_result"
    }
   ],
   "source": [
    "p99=np.percentile(hr.length_of_service,99.5)\n",
    "p99"
   ]
  },
  {
   "cell_type": "code",
   "execution_count": 15,
   "id": "d9d1668a",
   "metadata": {},
   "outputs": [],
   "source": [
    "hr['length_of_service']=np.where(hr.length_of_service>p99,p99,hr.length_of_service)"
   ]
  },
  {
   "cell_type": "code",
   "execution_count": 16,
   "id": "121f5fcd",
   "metadata": {},
   "outputs": [
    {
     "name": "stdout",
     "output_type": "stream",
     "text": [
      "<class 'pandas.core.frame.DataFrame'>\n",
      "Int64Index: 78298 entries, 0 to 23489\n",
      "Data columns (total 15 columns):\n",
      " #   Column                Non-Null Count  Dtype   \n",
      "---  ------                --------------  -----   \n",
      " 0   employee_id           78298 non-null  int64   \n",
      " 1   department            78298 non-null  object  \n",
      " 2   region                78298 non-null  object  \n",
      " 3   education             78298 non-null  object  \n",
      " 4   gender                78298 non-null  object  \n",
      " 5   recruitment_channel   78298 non-null  object  \n",
      " 6   no_of_trainings       78298 non-null  int64   \n",
      " 7   age                   78298 non-null  int64   \n",
      " 8   previous_year_rating  78298 non-null  float64 \n",
      " 9   length_of_service     78298 non-null  float64 \n",
      " 10  KPIs_met >80%         78298 non-null  int64   \n",
      " 11  awards_won?           78298 non-null  int64   \n",
      " 12  avg_training_score    78298 non-null  int64   \n",
      " 13  is_promoted           54808 non-null  float64 \n",
      " 14  binned                78298 non-null  category\n",
      "dtypes: category(1), float64(3), int64(6), object(5)\n",
      "memory usage: 11.1+ MB\n"
     ]
    }
   ],
   "source": [
    "hr.info()"
   ]
  },
  {
   "cell_type": "code",
   "execution_count": 17,
   "id": "30f33bc8",
   "metadata": {},
   "outputs": [],
   "source": [
    "hr.drop(['employee_id','region'],axis=1,inplace=True)"
   ]
  },
  {
   "cell_type": "code",
   "execution_count": 18,
   "id": "c0c150c5",
   "metadata": {},
   "outputs": [
    {
     "data": {
      "text/html": [
       "<div>\n",
       "<style scoped>\n",
       "    .dataframe tbody tr th:only-of-type {\n",
       "        vertical-align: middle;\n",
       "    }\n",
       "\n",
       "    .dataframe tbody tr th {\n",
       "        vertical-align: top;\n",
       "    }\n",
       "\n",
       "    .dataframe thead th {\n",
       "        text-align: right;\n",
       "    }\n",
       "</style>\n",
       "<table border=\"1\" class=\"dataframe\">\n",
       "  <thead>\n",
       "    <tr style=\"text-align: right;\">\n",
       "      <th></th>\n",
       "      <th>department</th>\n",
       "      <th>education</th>\n",
       "      <th>gender</th>\n",
       "      <th>recruitment_channel</th>\n",
       "      <th>no_of_trainings</th>\n",
       "      <th>age</th>\n",
       "      <th>previous_year_rating</th>\n",
       "      <th>length_of_service</th>\n",
       "      <th>KPIs_met &gt;80%</th>\n",
       "      <th>awards_won?</th>\n",
       "      <th>avg_training_score</th>\n",
       "      <th>is_promoted</th>\n",
       "      <th>binned</th>\n",
       "    </tr>\n",
       "  </thead>\n",
       "  <tbody>\n",
       "    <tr>\n",
       "      <th>0</th>\n",
       "      <td>Sales &amp; Marketing</td>\n",
       "      <td>Master's &amp; above</td>\n",
       "      <td>f</td>\n",
       "      <td>sourcing</td>\n",
       "      <td>1</td>\n",
       "      <td>35</td>\n",
       "      <td>5.0</td>\n",
       "      <td>8.0</td>\n",
       "      <td>1</td>\n",
       "      <td>0</td>\n",
       "      <td>49</td>\n",
       "      <td>0.0</td>\n",
       "      <td>A</td>\n",
       "    </tr>\n",
       "    <tr>\n",
       "      <th>1</th>\n",
       "      <td>Operations</td>\n",
       "      <td>Bachelor's</td>\n",
       "      <td>m</td>\n",
       "      <td>other</td>\n",
       "      <td>1</td>\n",
       "      <td>30</td>\n",
       "      <td>5.0</td>\n",
       "      <td>4.0</td>\n",
       "      <td>0</td>\n",
       "      <td>0</td>\n",
       "      <td>60</td>\n",
       "      <td>0.0</td>\n",
       "      <td>B</td>\n",
       "    </tr>\n",
       "    <tr>\n",
       "      <th>2</th>\n",
       "      <td>Sales &amp; Marketing</td>\n",
       "      <td>Bachelor's</td>\n",
       "      <td>m</td>\n",
       "      <td>sourcing</td>\n",
       "      <td>1</td>\n",
       "      <td>34</td>\n",
       "      <td>3.0</td>\n",
       "      <td>7.0</td>\n",
       "      <td>0</td>\n",
       "      <td>0</td>\n",
       "      <td>50</td>\n",
       "      <td>0.0</td>\n",
       "      <td>A</td>\n",
       "    </tr>\n",
       "    <tr>\n",
       "      <th>3</th>\n",
       "      <td>Sales &amp; Marketing</td>\n",
       "      <td>Bachelor's</td>\n",
       "      <td>m</td>\n",
       "      <td>other</td>\n",
       "      <td>2</td>\n",
       "      <td>39</td>\n",
       "      <td>1.0</td>\n",
       "      <td>10.0</td>\n",
       "      <td>0</td>\n",
       "      <td>0</td>\n",
       "      <td>50</td>\n",
       "      <td>0.0</td>\n",
       "      <td>A</td>\n",
       "    </tr>\n",
       "    <tr>\n",
       "      <th>4</th>\n",
       "      <td>Technology</td>\n",
       "      <td>Bachelor's</td>\n",
       "      <td>m</td>\n",
       "      <td>other</td>\n",
       "      <td>1</td>\n",
       "      <td>45</td>\n",
       "      <td>3.0</td>\n",
       "      <td>2.0</td>\n",
       "      <td>0</td>\n",
       "      <td>0</td>\n",
       "      <td>73</td>\n",
       "      <td>0.0</td>\n",
       "      <td>C</td>\n",
       "    </tr>\n",
       "  </tbody>\n",
       "</table>\n",
       "</div>"
      ],
      "text/plain": [
       "          department         education gender recruitment_channel  \\\n",
       "0  Sales & Marketing  Master's & above      f            sourcing   \n",
       "1         Operations        Bachelor's      m               other   \n",
       "2  Sales & Marketing        Bachelor's      m            sourcing   \n",
       "3  Sales & Marketing        Bachelor's      m               other   \n",
       "4         Technology        Bachelor's      m               other   \n",
       "\n",
       "   no_of_trainings  age  previous_year_rating  length_of_service  \\\n",
       "0                1   35                   5.0                8.0   \n",
       "1                1   30                   5.0                4.0   \n",
       "2                1   34                   3.0                7.0   \n",
       "3                2   39                   1.0               10.0   \n",
       "4                1   45                   3.0                2.0   \n",
       "\n",
       "   KPIs_met >80%  awards_won?  avg_training_score  is_promoted binned  \n",
       "0              1            0                  49          0.0      A  \n",
       "1              0            0                  60          0.0      B  \n",
       "2              0            0                  50          0.0      A  \n",
       "3              0            0                  50          0.0      A  \n",
       "4              0            0                  73          0.0      C  "
      ]
     },
     "execution_count": 18,
     "metadata": {},
     "output_type": "execute_result"
    }
   ],
   "source": [
    "hr.head()"
   ]
  },
  {
   "cell_type": "code",
   "execution_count": 19,
   "id": "547da67f",
   "metadata": {},
   "outputs": [],
   "source": [
    "hr=pd.get_dummies(hr)"
   ]
  },
  {
   "cell_type": "code",
   "execution_count": 20,
   "id": "4bcb2365",
   "metadata": {},
   "outputs": [
    {
     "data": {
      "text/html": [
       "<div>\n",
       "<style scoped>\n",
       "    .dataframe tbody tr th:only-of-type {\n",
       "        vertical-align: middle;\n",
       "    }\n",
       "\n",
       "    .dataframe tbody tr th {\n",
       "        vertical-align: top;\n",
       "    }\n",
       "\n",
       "    .dataframe thead th {\n",
       "        text-align: right;\n",
       "    }\n",
       "</style>\n",
       "<table border=\"1\" class=\"dataframe\">\n",
       "  <thead>\n",
       "    <tr style=\"text-align: right;\">\n",
       "      <th></th>\n",
       "      <th>no_of_trainings</th>\n",
       "      <th>age</th>\n",
       "      <th>previous_year_rating</th>\n",
       "      <th>length_of_service</th>\n",
       "      <th>KPIs_met &gt;80%</th>\n",
       "      <th>awards_won?</th>\n",
       "      <th>avg_training_score</th>\n",
       "      <th>is_promoted</th>\n",
       "      <th>department_Analytics</th>\n",
       "      <th>department_Finance</th>\n",
       "      <th>...</th>\n",
       "      <th>education_Master's &amp; above</th>\n",
       "      <th>gender_f</th>\n",
       "      <th>gender_m</th>\n",
       "      <th>recruitment_channel_other</th>\n",
       "      <th>recruitment_channel_referred</th>\n",
       "      <th>recruitment_channel_sourcing</th>\n",
       "      <th>binned_A</th>\n",
       "      <th>binned_B</th>\n",
       "      <th>binned_C</th>\n",
       "      <th>binned_D</th>\n",
       "    </tr>\n",
       "  </thead>\n",
       "  <tbody>\n",
       "    <tr>\n",
       "      <th>no_of_trainings</th>\n",
       "      <td>1.000000</td>\n",
       "      <td>-0.082536</td>\n",
       "      <td>-0.055656</td>\n",
       "      <td>-0.058802</td>\n",
       "      <td>-0.043912</td>\n",
       "      <td>-0.004818</td>\n",
       "      <td>0.044180</td>\n",
       "      <td>-0.024896</td>\n",
       "      <td>0.047605</td>\n",
       "      <td>0.019428</td>\n",
       "      <td>...</td>\n",
       "      <td>-0.033644</td>\n",
       "      <td>-0.084530</td>\n",
       "      <td>0.084530</td>\n",
       "      <td>0.010886</td>\n",
       "      <td>-0.014407</td>\n",
       "      <td>-0.006830</td>\n",
       "      <td>0.000176</td>\n",
       "      <td>-0.046240</td>\n",
       "      <td>0.050822</td>\n",
       "      <td>-0.001815</td>\n",
       "    </tr>\n",
       "    <tr>\n",
       "      <th>age</th>\n",
       "      <td>-0.082536</td>\n",
       "      <td>1.000000</td>\n",
       "      <td>0.009363</td>\n",
       "      <td>0.654415</td>\n",
       "      <td>-0.026223</td>\n",
       "      <td>-0.007357</td>\n",
       "      <td>-0.044592</td>\n",
       "      <td>-0.017166</td>\n",
       "      <td>-0.102731</td>\n",
       "      <td>-0.075176</td>\n",
       "      <td>...</td>\n",
       "      <td>0.364460</td>\n",
       "      <td>0.017816</td>\n",
       "      <td>-0.017816</td>\n",
       "      <td>0.018125</td>\n",
       "      <td>-0.041688</td>\n",
       "      <td>-0.006314</td>\n",
       "      <td>-0.007530</td>\n",
       "      <td>0.057407</td>\n",
       "      <td>-0.054303</td>\n",
       "      <td>-0.007380</td>\n",
       "    </tr>\n",
       "    <tr>\n",
       "      <th>previous_year_rating</th>\n",
       "      <td>-0.055656</td>\n",
       "      <td>0.009363</td>\n",
       "      <td>1.000000</td>\n",
       "      <td>0.001506</td>\n",
       "      <td>0.337851</td>\n",
       "      <td>0.027186</td>\n",
       "      <td>0.073205</td>\n",
       "      <td>0.154825</td>\n",
       "      <td>0.054891</td>\n",
       "      <td>0.031414</td>\n",
       "      <td>...</td>\n",
       "      <td>0.016745</td>\n",
       "      <td>0.023300</td>\n",
       "      <td>-0.023300</td>\n",
       "      <td>-0.015358</td>\n",
       "      <td>0.066711</td>\n",
       "      <td>-0.003617</td>\n",
       "      <td>-0.097218</td>\n",
       "      <td>0.062407</td>\n",
       "      <td>0.008981</td>\n",
       "      <td>0.050248</td>\n",
       "    </tr>\n",
       "    <tr>\n",
       "      <th>length_of_service</th>\n",
       "      <td>-0.058802</td>\n",
       "      <td>0.654415</td>\n",
       "      <td>0.001506</td>\n",
       "      <td>1.000000</td>\n",
       "      <td>-0.078306</td>\n",
       "      <td>-0.040737</td>\n",
       "      <td>-0.035818</td>\n",
       "      <td>-0.010482</td>\n",
       "      <td>-0.071054</td>\n",
       "      <td>-0.051470</td>\n",
       "      <td>...</td>\n",
       "      <td>0.249324</td>\n",
       "      <td>0.017747</td>\n",
       "      <td>-0.017747</td>\n",
       "      <td>0.008694</td>\n",
       "      <td>-0.029272</td>\n",
       "      <td>-0.000379</td>\n",
       "      <td>-0.001615</td>\n",
       "      <td>0.041930</td>\n",
       "      <td>-0.042759</td>\n",
       "      <td>-0.007351</td>\n",
       "    </tr>\n",
       "    <tr>\n",
       "      <th>KPIs_met &gt;80%</th>\n",
       "      <td>-0.043912</td>\n",
       "      <td>-0.026223</td>\n",
       "      <td>0.337851</td>\n",
       "      <td>-0.078306</td>\n",
       "      <td>1.000000</td>\n",
       "      <td>0.100365</td>\n",
       "      <td>0.076729</td>\n",
       "      <td>0.221582</td>\n",
       "      <td>0.034518</td>\n",
       "      <td>0.025530</td>\n",
       "      <td>...</td>\n",
       "      <td>0.009671</td>\n",
       "      <td>0.037916</td>\n",
       "      <td>-0.037916</td>\n",
       "      <td>-0.007304</td>\n",
       "      <td>0.048054</td>\n",
       "      <td>-0.006385</td>\n",
       "      <td>-0.086637</td>\n",
       "      <td>0.041031</td>\n",
       "      <td>0.021332</td>\n",
       "      <td>0.056570</td>\n",
       "    </tr>\n",
       "    <tr>\n",
       "      <th>awards_won?</th>\n",
       "      <td>-0.004818</td>\n",
       "      <td>-0.007357</td>\n",
       "      <td>0.027186</td>\n",
       "      <td>-0.040737</td>\n",
       "      <td>0.100365</td>\n",
       "      <td>1.000000</td>\n",
       "      <td>0.072655</td>\n",
       "      <td>0.195871</td>\n",
       "      <td>0.004340</td>\n",
       "      <td>0.001776</td>\n",
       "      <td>...</td>\n",
       "      <td>0.001527</td>\n",
       "      <td>-0.000553</td>\n",
       "      <td>0.000553</td>\n",
       "      <td>0.003878</td>\n",
       "      <td>0.001372</td>\n",
       "      <td>-0.004292</td>\n",
       "      <td>-0.025310</td>\n",
       "      <td>-0.029789</td>\n",
       "      <td>0.018651</td>\n",
       "      <td>0.166087</td>\n",
       "    </tr>\n",
       "    <tr>\n",
       "      <th>avg_training_score</th>\n",
       "      <td>0.044180</td>\n",
       "      <td>-0.044592</td>\n",
       "      <td>0.073205</td>\n",
       "      <td>-0.035818</td>\n",
       "      <td>0.076729</td>\n",
       "      <td>0.072655</td>\n",
       "      <td>1.000000</td>\n",
       "      <td>0.181147</td>\n",
       "      <td>0.522893</td>\n",
       "      <td>-0.051006</td>\n",
       "      <td>...</td>\n",
       "      <td>0.033377</td>\n",
       "      <td>0.024840</td>\n",
       "      <td>-0.024840</td>\n",
       "      <td>0.003260</td>\n",
       "      <td>0.027166</td>\n",
       "      <td>-0.011039</td>\n",
       "      <td>-0.614004</td>\n",
       "      <td>-0.292758</td>\n",
       "      <td>0.826375</td>\n",
       "      <td>0.235106</td>\n",
       "    </tr>\n",
       "    <tr>\n",
       "      <th>is_promoted</th>\n",
       "      <td>-0.024896</td>\n",
       "      <td>-0.017166</td>\n",
       "      <td>0.154825</td>\n",
       "      <td>-0.010482</td>\n",
       "      <td>0.221582</td>\n",
       "      <td>0.195871</td>\n",
       "      <td>0.181147</td>\n",
       "      <td>1.000000</td>\n",
       "      <td>0.012369</td>\n",
       "      <td>-0.003109</td>\n",
       "      <td>...</td>\n",
       "      <td>0.029343</td>\n",
       "      <td>0.011109</td>\n",
       "      <td>-0.011109</td>\n",
       "      <td>-0.004879</td>\n",
       "      <td>0.018641</td>\n",
       "      <td>-0.000483</td>\n",
       "      <td>-0.086658</td>\n",
       "      <td>-0.053516</td>\n",
       "      <td>0.071358</td>\n",
       "      <td>0.293256</td>\n",
       "    </tr>\n",
       "    <tr>\n",
       "      <th>department_Analytics</th>\n",
       "      <td>0.047605</td>\n",
       "      <td>-0.102731</td>\n",
       "      <td>0.054891</td>\n",
       "      <td>-0.071054</td>\n",
       "      <td>0.034518</td>\n",
       "      <td>0.004340</td>\n",
       "      <td>0.522893</td>\n",
       "      <td>0.012369</td>\n",
       "      <td>1.000000</td>\n",
       "      <td>-0.072634</td>\n",
       "      <td>...</td>\n",
       "      <td>-0.057955</td>\n",
       "      <td>-0.144650</td>\n",
       "      <td>0.144650</td>\n",
       "      <td>0.003361</td>\n",
       "      <td>-0.017063</td>\n",
       "      <td>0.001495</td>\n",
       "      <td>-0.175694</td>\n",
       "      <td>-0.311872</td>\n",
       "      <td>0.493305</td>\n",
       "      <td>0.034290</td>\n",
       "    </tr>\n",
       "    <tr>\n",
       "      <th>department_Finance</th>\n",
       "      <td>0.019428</td>\n",
       "      <td>-0.075176</td>\n",
       "      <td>0.031414</td>\n",
       "      <td>-0.051470</td>\n",
       "      <td>0.025530</td>\n",
       "      <td>0.001776</td>\n",
       "      <td>-0.051006</td>\n",
       "      <td>-0.003109</td>\n",
       "      <td>-0.072634</td>\n",
       "      <td>1.000000</td>\n",
       "      <td>...</td>\n",
       "      <td>-0.034571</td>\n",
       "      <td>-0.016363</td>\n",
       "      <td>0.016363</td>\n",
       "      <td>0.008296</td>\n",
       "      <td>-0.028318</td>\n",
       "      <td>-0.000251</td>\n",
       "      <td>-0.117201</td>\n",
       "      <td>0.219872</td>\n",
       "      <td>-0.132998</td>\n",
       "      <td>-0.004069</td>\n",
       "    </tr>\n",
       "    <tr>\n",
       "      <th>department_HR</th>\n",
       "      <td>-0.069907</td>\n",
       "      <td>-0.012460</td>\n",
       "      <td>0.024580</td>\n",
       "      <td>-0.009570</td>\n",
       "      <td>-0.006869</td>\n",
       "      <td>-0.005662</td>\n",
       "      <td>-0.214129</td>\n",
       "      <td>-0.022262</td>\n",
       "      <td>-0.071322</td>\n",
       "      <td>-0.047696</td>\n",
       "      <td>...</td>\n",
       "      <td>0.014173</td>\n",
       "      <td>0.056925</td>\n",
       "      <td>-0.056925</td>\n",
       "      <td>0.000468</td>\n",
       "      <td>0.038391</td>\n",
       "      <td>-0.011439</td>\n",
       "      <td>0.210693</td>\n",
       "      <td>-0.046152</td>\n",
       "      <td>-0.138511</td>\n",
       "      <td>-0.011867</td>\n",
       "    </tr>\n",
       "    <tr>\n",
       "      <th>department_Legal</th>\n",
       "      <td>-0.038439</td>\n",
       "      <td>-0.017749</td>\n",
       "      <td>0.010076</td>\n",
       "      <td>-0.041276</td>\n",
       "      <td>-0.005167</td>\n",
       "      <td>-0.001380</td>\n",
       "      <td>-0.037069</td>\n",
       "      <td>-0.017011</td>\n",
       "      <td>-0.045808</td>\n",
       "      <td>-0.030633</td>\n",
       "      <td>...</td>\n",
       "      <td>-0.037425</td>\n",
       "      <td>-0.050010</td>\n",
       "      <td>0.050010</td>\n",
       "      <td>0.001146</td>\n",
       "      <td>-0.000791</td>\n",
       "      <td>-0.000926</td>\n",
       "      <td>-0.074099</td>\n",
       "      <td>0.143502</td>\n",
       "      <td>-0.087833</td>\n",
       "      <td>-0.007808</td>\n",
       "    </tr>\n",
       "    <tr>\n",
       "      <th>department_Operations</th>\n",
       "      <td>-0.074217</td>\n",
       "      <td>0.085447</td>\n",
       "      <td>0.124323</td>\n",
       "      <td>0.069094</td>\n",
       "      <td>0.085870</td>\n",
       "      <td>-0.000090</td>\n",
       "      <td>-0.117943</td>\n",
       "      <td>0.009113</td>\n",
       "      <td>-0.167753</td>\n",
       "      <td>-0.112183</td>\n",
       "      <td>...</td>\n",
       "      <td>0.003995</td>\n",
       "      <td>0.129625</td>\n",
       "      <td>-0.129625</td>\n",
       "      <td>-0.005168</td>\n",
       "      <td>0.000268</td>\n",
       "      <td>0.005120</td>\n",
       "      <td>-0.270979</td>\n",
       "      <td>0.507893</td>\n",
       "      <td>-0.306250</td>\n",
       "      <td>-0.012728</td>\n",
       "    </tr>\n",
       "    <tr>\n",
       "      <th>department_Procurement</th>\n",
       "      <td>0.047495</td>\n",
       "      <td>0.058978</td>\n",
       "      <td>-0.011729</td>\n",
       "      <td>0.041653</td>\n",
       "      <td>0.018976</td>\n",
       "      <td>0.002996</td>\n",
       "      <td>0.195590</td>\n",
       "      <td>0.015548</td>\n",
       "      <td>-0.127246</td>\n",
       "      <td>-0.085094</td>\n",
       "      <td>...</td>\n",
       "      <td>0.073735</td>\n",
       "      <td>0.136118</td>\n",
       "      <td>-0.136118</td>\n",
       "      <td>0.007911</td>\n",
       "      <td>-0.026295</td>\n",
       "      <td>-0.000442</td>\n",
       "      <td>-0.205835</td>\n",
       "      <td>0.115419</td>\n",
       "      <td>0.061538</td>\n",
       "      <td>-0.002569</td>\n",
       "    </tr>\n",
       "    <tr>\n",
       "      <th>department_R&amp;D</th>\n",
       "      <td>0.030150</td>\n",
       "      <td>-0.035014</td>\n",
       "      <td>0.027208</td>\n",
       "      <td>-0.039999</td>\n",
       "      <td>0.019993</td>\n",
       "      <td>-0.001377</td>\n",
       "      <td>0.216652</td>\n",
       "      <td>-0.007859</td>\n",
       "      <td>-0.045095</td>\n",
       "      <td>-0.030156</td>\n",
       "      <td>...</td>\n",
       "      <td>0.050368</td>\n",
       "      <td>-0.071731</td>\n",
       "      <td>0.071731</td>\n",
       "      <td>-0.000365</td>\n",
       "      <td>-0.001534</td>\n",
       "      <td>0.000805</td>\n",
       "      <td>-0.072946</td>\n",
       "      <td>-0.129485</td>\n",
       "      <td>0.205272</td>\n",
       "      <td>0.012175</td>\n",
       "    </tr>\n",
       "    <tr>\n",
       "      <th>department_Sales &amp; Marketing</th>\n",
       "      <td>0.023409</td>\n",
       "      <td>0.000348</td>\n",
       "      <td>-0.134914</td>\n",
       "      <td>0.003886</td>\n",
       "      <td>-0.119441</td>\n",
       "      <td>-0.007894</td>\n",
       "      <td>-0.655835</td>\n",
       "      <td>-0.031348</td>\n",
       "      <td>-0.220127</td>\n",
       "      <td>-0.147208</td>\n",
       "      <td>...</td>\n",
       "      <td>-0.037886</td>\n",
       "      <td>-0.159378</td>\n",
       "      <td>0.159378</td>\n",
       "      <td>-0.003906</td>\n",
       "      <td>-0.027899</td>\n",
       "      <td>0.011898</td>\n",
       "      <td>0.651738</td>\n",
       "      <td>-0.146599</td>\n",
       "      <td>-0.428021</td>\n",
       "      <td>-0.019805</td>\n",
       "    </tr>\n",
       "    <tr>\n",
       "      <th>department_Technology</th>\n",
       "      <td>0.001909</td>\n",
       "      <td>0.004519</td>\n",
       "      <td>-0.050718</td>\n",
       "      <td>0.003564</td>\n",
       "      <td>-0.006287</td>\n",
       "      <td>0.007610</td>\n",
       "      <td>0.477462</td>\n",
       "      <td>0.031085</td>\n",
       "      <td>-0.127181</td>\n",
       "      <td>-0.085051</td>\n",
       "      <td>...</td>\n",
       "      <td>0.032781</td>\n",
       "      <td>0.079188</td>\n",
       "      <td>-0.079188</td>\n",
       "      <td>-0.005096</td>\n",
       "      <td>0.074475</td>\n",
       "      <td>-0.016153</td>\n",
       "      <td>-0.205730</td>\n",
       "      <td>-0.364809</td>\n",
       "      <td>0.581056</td>\n",
       "      <td>0.022926</td>\n",
       "    </tr>\n",
       "    <tr>\n",
       "      <th>education_Bachelor's</th>\n",
       "      <td>0.031555</td>\n",
       "      <td>-0.311213</td>\n",
       "      <td>-0.019785</td>\n",
       "      <td>-0.212510</td>\n",
       "      <td>-0.013557</td>\n",
       "      <td>-0.001281</td>\n",
       "      <td>-0.037141</td>\n",
       "      <td>-0.028650</td>\n",
       "      <td>0.067968</td>\n",
       "      <td>0.020551</td>\n",
       "      <td>...</td>\n",
       "      <td>-0.963431</td>\n",
       "      <td>-0.034895</td>\n",
       "      <td>0.034895</td>\n",
       "      <td>-0.008267</td>\n",
       "      <td>0.021952</td>\n",
       "      <td>0.002041</td>\n",
       "      <td>0.032338</td>\n",
       "      <td>0.000897</td>\n",
       "      <td>-0.027468</td>\n",
       "      <td>-0.013150</td>\n",
       "    </tr>\n",
       "    <tr>\n",
       "      <th>education_Below Secondary</th>\n",
       "      <td>0.005750</td>\n",
       "      <td>-0.176210</td>\n",
       "      <td>0.012323</td>\n",
       "      <td>-0.121990</td>\n",
       "      <td>0.015043</td>\n",
       "      <td>-0.000824</td>\n",
       "      <td>0.016015</td>\n",
       "      <td>-0.000849</td>\n",
       "      <td>-0.040749</td>\n",
       "      <td>0.050088</td>\n",
       "      <td>...</td>\n",
       "      <td>-0.075900</td>\n",
       "      <td>0.015058</td>\n",
       "      <td>-0.015058</td>\n",
       "      <td>-0.006623</td>\n",
       "      <td>0.020809</td>\n",
       "      <td>0.000714</td>\n",
       "      <td>-0.036359</td>\n",
       "      <td>0.024576</td>\n",
       "      <td>0.006253</td>\n",
       "      <td>-0.000297</td>\n",
       "    </tr>\n",
       "    <tr>\n",
       "      <th>education_Master's &amp; above</th>\n",
       "      <td>-0.033644</td>\n",
       "      <td>0.364460</td>\n",
       "      <td>0.016745</td>\n",
       "      <td>0.249324</td>\n",
       "      <td>0.009671</td>\n",
       "      <td>0.001527</td>\n",
       "      <td>0.033377</td>\n",
       "      <td>0.029343</td>\n",
       "      <td>-0.057955</td>\n",
       "      <td>-0.034571</td>\n",
       "      <td>...</td>\n",
       "      <td>1.000000</td>\n",
       "      <td>0.031356</td>\n",
       "      <td>-0.031356</td>\n",
       "      <td>0.010212</td>\n",
       "      <td>-0.027997</td>\n",
       "      <td>-0.002269</td>\n",
       "      <td>-0.022938</td>\n",
       "      <td>-0.007625</td>\n",
       "      <td>0.026212</td>\n",
       "      <td>0.013447</td>\n",
       "    </tr>\n",
       "    <tr>\n",
       "      <th>gender_f</th>\n",
       "      <td>-0.084530</td>\n",
       "      <td>0.017816</td>\n",
       "      <td>0.023300</td>\n",
       "      <td>0.017747</td>\n",
       "      <td>0.037916</td>\n",
       "      <td>-0.000553</td>\n",
       "      <td>0.024840</td>\n",
       "      <td>0.011109</td>\n",
       "      <td>-0.144650</td>\n",
       "      <td>-0.016363</td>\n",
       "      <td>...</td>\n",
       "      <td>0.031356</td>\n",
       "      <td>1.000000</td>\n",
       "      <td>-1.000000</td>\n",
       "      <td>0.005760</td>\n",
       "      <td>-0.006960</td>\n",
       "      <td>-0.003803</td>\n",
       "      <td>-0.093288</td>\n",
       "      <td>0.093531</td>\n",
       "      <td>-0.015936</td>\n",
       "      <td>-0.006843</td>\n",
       "    </tr>\n",
       "    <tr>\n",
       "      <th>gender_m</th>\n",
       "      <td>0.084530</td>\n",
       "      <td>-0.017816</td>\n",
       "      <td>-0.023300</td>\n",
       "      <td>-0.017747</td>\n",
       "      <td>-0.037916</td>\n",
       "      <td>0.000553</td>\n",
       "      <td>-0.024840</td>\n",
       "      <td>-0.011109</td>\n",
       "      <td>0.144650</td>\n",
       "      <td>0.016363</td>\n",
       "      <td>...</td>\n",
       "      <td>-0.031356</td>\n",
       "      <td>-1.000000</td>\n",
       "      <td>1.000000</td>\n",
       "      <td>-0.005760</td>\n",
       "      <td>0.006960</td>\n",
       "      <td>0.003803</td>\n",
       "      <td>0.093288</td>\n",
       "      <td>-0.093531</td>\n",
       "      <td>0.015936</td>\n",
       "      <td>0.006843</td>\n",
       "    </tr>\n",
       "    <tr>\n",
       "      <th>recruitment_channel_other</th>\n",
       "      <td>0.010886</td>\n",
       "      <td>0.018125</td>\n",
       "      <td>-0.015358</td>\n",
       "      <td>0.008694</td>\n",
       "      <td>-0.007304</td>\n",
       "      <td>0.003878</td>\n",
       "      <td>0.003260</td>\n",
       "      <td>-0.004879</td>\n",
       "      <td>0.003361</td>\n",
       "      <td>0.008296</td>\n",
       "      <td>...</td>\n",
       "      <td>0.010212</td>\n",
       "      <td>0.005760</td>\n",
       "      <td>-0.005760</td>\n",
       "      <td>1.000000</td>\n",
       "      <td>-0.161225</td>\n",
       "      <td>-0.959426</td>\n",
       "      <td>-0.005463</td>\n",
       "      <td>0.004973</td>\n",
       "      <td>-0.000550</td>\n",
       "      <td>0.000356</td>\n",
       "    </tr>\n",
       "    <tr>\n",
       "      <th>recruitment_channel_referred</th>\n",
       "      <td>-0.014407</td>\n",
       "      <td>-0.041688</td>\n",
       "      <td>0.066711</td>\n",
       "      <td>-0.029272</td>\n",
       "      <td>0.048054</td>\n",
       "      <td>0.001372</td>\n",
       "      <td>0.027166</td>\n",
       "      <td>0.018641</td>\n",
       "      <td>-0.017063</td>\n",
       "      <td>-0.028318</td>\n",
       "      <td>...</td>\n",
       "      <td>-0.027997</td>\n",
       "      <td>-0.006960</td>\n",
       "      <td>0.006960</td>\n",
       "      <td>-0.161225</td>\n",
       "      <td>1.000000</td>\n",
       "      <td>-0.123586</td>\n",
       "      <td>-0.010361</td>\n",
       "      <td>-0.025295</td>\n",
       "      <td>0.036617</td>\n",
       "      <td>0.002136</td>\n",
       "    </tr>\n",
       "    <tr>\n",
       "      <th>recruitment_channel_sourcing</th>\n",
       "      <td>-0.006830</td>\n",
       "      <td>-0.006314</td>\n",
       "      <td>-0.003617</td>\n",
       "      <td>-0.000379</td>\n",
       "      <td>-0.006385</td>\n",
       "      <td>-0.004292</td>\n",
       "      <td>-0.011039</td>\n",
       "      <td>-0.000483</td>\n",
       "      <td>0.001495</td>\n",
       "      <td>-0.000251</td>\n",
       "      <td>...</td>\n",
       "      <td>-0.002269</td>\n",
       "      <td>-0.003803</td>\n",
       "      <td>0.003803</td>\n",
       "      <td>-0.959426</td>\n",
       "      <td>-0.123586</td>\n",
       "      <td>1.000000</td>\n",
       "      <td>0.008453</td>\n",
       "      <td>0.002227</td>\n",
       "      <td>-0.009909</td>\n",
       "      <td>-0.000968</td>\n",
       "    </tr>\n",
       "    <tr>\n",
       "      <th>binned_A</th>\n",
       "      <td>0.000176</td>\n",
       "      <td>-0.007530</td>\n",
       "      <td>-0.097218</td>\n",
       "      <td>-0.001615</td>\n",
       "      <td>-0.086637</td>\n",
       "      <td>-0.025310</td>\n",
       "      <td>-0.614004</td>\n",
       "      <td>-0.086658</td>\n",
       "      <td>-0.175694</td>\n",
       "      <td>-0.117201</td>\n",
       "      <td>...</td>\n",
       "      <td>-0.022938</td>\n",
       "      <td>-0.093288</td>\n",
       "      <td>0.093288</td>\n",
       "      <td>-0.005463</td>\n",
       "      <td>-0.010361</td>\n",
       "      <td>0.008453</td>\n",
       "      <td>1.000000</td>\n",
       "      <td>-0.504490</td>\n",
       "      <td>-0.345541</td>\n",
       "      <td>-0.054709</td>\n",
       "    </tr>\n",
       "    <tr>\n",
       "      <th>binned_B</th>\n",
       "      <td>-0.046240</td>\n",
       "      <td>0.057407</td>\n",
       "      <td>0.062407</td>\n",
       "      <td>0.041930</td>\n",
       "      <td>0.041031</td>\n",
       "      <td>-0.029789</td>\n",
       "      <td>-0.292758</td>\n",
       "      <td>-0.053516</td>\n",
       "      <td>-0.311872</td>\n",
       "      <td>0.219872</td>\n",
       "      <td>...</td>\n",
       "      <td>-0.007625</td>\n",
       "      <td>0.093531</td>\n",
       "      <td>-0.093531</td>\n",
       "      <td>0.004973</td>\n",
       "      <td>-0.025295</td>\n",
       "      <td>0.002227</td>\n",
       "      <td>-0.504490</td>\n",
       "      <td>1.000000</td>\n",
       "      <td>-0.613366</td>\n",
       "      <td>-0.097114</td>\n",
       "    </tr>\n",
       "    <tr>\n",
       "      <th>binned_C</th>\n",
       "      <td>0.050822</td>\n",
       "      <td>-0.054303</td>\n",
       "      <td>0.008981</td>\n",
       "      <td>-0.042759</td>\n",
       "      <td>0.021332</td>\n",
       "      <td>0.018651</td>\n",
       "      <td>0.826375</td>\n",
       "      <td>0.071358</td>\n",
       "      <td>0.493305</td>\n",
       "      <td>-0.132998</td>\n",
       "      <td>...</td>\n",
       "      <td>0.026212</td>\n",
       "      <td>-0.015936</td>\n",
       "      <td>0.015936</td>\n",
       "      <td>-0.000550</td>\n",
       "      <td>0.036617</td>\n",
       "      <td>-0.009909</td>\n",
       "      <td>-0.345541</td>\n",
       "      <td>-0.613366</td>\n",
       "      <td>1.000000</td>\n",
       "      <td>-0.066516</td>\n",
       "    </tr>\n",
       "    <tr>\n",
       "      <th>binned_D</th>\n",
       "      <td>-0.001815</td>\n",
       "      <td>-0.007380</td>\n",
       "      <td>0.050248</td>\n",
       "      <td>-0.007351</td>\n",
       "      <td>0.056570</td>\n",
       "      <td>0.166087</td>\n",
       "      <td>0.235106</td>\n",
       "      <td>0.293256</td>\n",
       "      <td>0.034290</td>\n",
       "      <td>-0.004069</td>\n",
       "      <td>...</td>\n",
       "      <td>0.013447</td>\n",
       "      <td>-0.006843</td>\n",
       "      <td>0.006843</td>\n",
       "      <td>0.000356</td>\n",
       "      <td>0.002136</td>\n",
       "      <td>-0.000968</td>\n",
       "      <td>-0.054709</td>\n",
       "      <td>-0.097114</td>\n",
       "      <td>-0.066516</td>\n",
       "      <td>1.000000</td>\n",
       "    </tr>\n",
       "  </tbody>\n",
       "</table>\n",
       "<p>29 rows × 29 columns</p>\n",
       "</div>"
      ],
      "text/plain": [
       "                              no_of_trainings       age  previous_year_rating  \\\n",
       "no_of_trainings                      1.000000 -0.082536             -0.055656   \n",
       "age                                 -0.082536  1.000000              0.009363   \n",
       "previous_year_rating                -0.055656  0.009363              1.000000   \n",
       "length_of_service                   -0.058802  0.654415              0.001506   \n",
       "KPIs_met >80%                       -0.043912 -0.026223              0.337851   \n",
       "awards_won?                         -0.004818 -0.007357              0.027186   \n",
       "avg_training_score                   0.044180 -0.044592              0.073205   \n",
       "is_promoted                         -0.024896 -0.017166              0.154825   \n",
       "department_Analytics                 0.047605 -0.102731              0.054891   \n",
       "department_Finance                   0.019428 -0.075176              0.031414   \n",
       "department_HR                       -0.069907 -0.012460              0.024580   \n",
       "department_Legal                    -0.038439 -0.017749              0.010076   \n",
       "department_Operations               -0.074217  0.085447              0.124323   \n",
       "department_Procurement               0.047495  0.058978             -0.011729   \n",
       "department_R&D                       0.030150 -0.035014              0.027208   \n",
       "department_Sales & Marketing         0.023409  0.000348             -0.134914   \n",
       "department_Technology                0.001909  0.004519             -0.050718   \n",
       "education_Bachelor's                 0.031555 -0.311213             -0.019785   \n",
       "education_Below Secondary            0.005750 -0.176210              0.012323   \n",
       "education_Master's & above          -0.033644  0.364460              0.016745   \n",
       "gender_f                            -0.084530  0.017816              0.023300   \n",
       "gender_m                             0.084530 -0.017816             -0.023300   \n",
       "recruitment_channel_other            0.010886  0.018125             -0.015358   \n",
       "recruitment_channel_referred        -0.014407 -0.041688              0.066711   \n",
       "recruitment_channel_sourcing        -0.006830 -0.006314             -0.003617   \n",
       "binned_A                             0.000176 -0.007530             -0.097218   \n",
       "binned_B                            -0.046240  0.057407              0.062407   \n",
       "binned_C                             0.050822 -0.054303              0.008981   \n",
       "binned_D                            -0.001815 -0.007380              0.050248   \n",
       "\n",
       "                              length_of_service  KPIs_met >80%  awards_won?  \\\n",
       "no_of_trainings                       -0.058802      -0.043912    -0.004818   \n",
       "age                                    0.654415      -0.026223    -0.007357   \n",
       "previous_year_rating                   0.001506       0.337851     0.027186   \n",
       "length_of_service                      1.000000      -0.078306    -0.040737   \n",
       "KPIs_met >80%                         -0.078306       1.000000     0.100365   \n",
       "awards_won?                           -0.040737       0.100365     1.000000   \n",
       "avg_training_score                    -0.035818       0.076729     0.072655   \n",
       "is_promoted                           -0.010482       0.221582     0.195871   \n",
       "department_Analytics                  -0.071054       0.034518     0.004340   \n",
       "department_Finance                    -0.051470       0.025530     0.001776   \n",
       "department_HR                         -0.009570      -0.006869    -0.005662   \n",
       "department_Legal                      -0.041276      -0.005167    -0.001380   \n",
       "department_Operations                  0.069094       0.085870    -0.000090   \n",
       "department_Procurement                 0.041653       0.018976     0.002996   \n",
       "department_R&D                        -0.039999       0.019993    -0.001377   \n",
       "department_Sales & Marketing           0.003886      -0.119441    -0.007894   \n",
       "department_Technology                  0.003564      -0.006287     0.007610   \n",
       "education_Bachelor's                  -0.212510      -0.013557    -0.001281   \n",
       "education_Below Secondary             -0.121990       0.015043    -0.000824   \n",
       "education_Master's & above             0.249324       0.009671     0.001527   \n",
       "gender_f                               0.017747       0.037916    -0.000553   \n",
       "gender_m                              -0.017747      -0.037916     0.000553   \n",
       "recruitment_channel_other              0.008694      -0.007304     0.003878   \n",
       "recruitment_channel_referred          -0.029272       0.048054     0.001372   \n",
       "recruitment_channel_sourcing          -0.000379      -0.006385    -0.004292   \n",
       "binned_A                              -0.001615      -0.086637    -0.025310   \n",
       "binned_B                               0.041930       0.041031    -0.029789   \n",
       "binned_C                              -0.042759       0.021332     0.018651   \n",
       "binned_D                              -0.007351       0.056570     0.166087   \n",
       "\n",
       "                              avg_training_score  is_promoted  \\\n",
       "no_of_trainings                         0.044180    -0.024896   \n",
       "age                                    -0.044592    -0.017166   \n",
       "previous_year_rating                    0.073205     0.154825   \n",
       "length_of_service                      -0.035818    -0.010482   \n",
       "KPIs_met >80%                           0.076729     0.221582   \n",
       "awards_won?                             0.072655     0.195871   \n",
       "avg_training_score                      1.000000     0.181147   \n",
       "is_promoted                             0.181147     1.000000   \n",
       "department_Analytics                    0.522893     0.012369   \n",
       "department_Finance                     -0.051006    -0.003109   \n",
       "department_HR                          -0.214129    -0.022262   \n",
       "department_Legal                       -0.037069    -0.017011   \n",
       "department_Operations                  -0.117943     0.009113   \n",
       "department_Procurement                  0.195590     0.015548   \n",
       "department_R&D                          0.216652    -0.007859   \n",
       "department_Sales & Marketing           -0.655835    -0.031348   \n",
       "department_Technology                   0.477462     0.031085   \n",
       "education_Bachelor's                   -0.037141    -0.028650   \n",
       "education_Below Secondary               0.016015    -0.000849   \n",
       "education_Master's & above              0.033377     0.029343   \n",
       "gender_f                                0.024840     0.011109   \n",
       "gender_m                               -0.024840    -0.011109   \n",
       "recruitment_channel_other               0.003260    -0.004879   \n",
       "recruitment_channel_referred            0.027166     0.018641   \n",
       "recruitment_channel_sourcing           -0.011039    -0.000483   \n",
       "binned_A                               -0.614004    -0.086658   \n",
       "binned_B                               -0.292758    -0.053516   \n",
       "binned_C                                0.826375     0.071358   \n",
       "binned_D                                0.235106     0.293256   \n",
       "\n",
       "                              department_Analytics  department_Finance  ...  \\\n",
       "no_of_trainings                           0.047605            0.019428  ...   \n",
       "age                                      -0.102731           -0.075176  ...   \n",
       "previous_year_rating                      0.054891            0.031414  ...   \n",
       "length_of_service                        -0.071054           -0.051470  ...   \n",
       "KPIs_met >80%                             0.034518            0.025530  ...   \n",
       "awards_won?                               0.004340            0.001776  ...   \n",
       "avg_training_score                        0.522893           -0.051006  ...   \n",
       "is_promoted                               0.012369           -0.003109  ...   \n",
       "department_Analytics                      1.000000           -0.072634  ...   \n",
       "department_Finance                       -0.072634            1.000000  ...   \n",
       "department_HR                            -0.071322           -0.047696  ...   \n",
       "department_Legal                         -0.045808           -0.030633  ...   \n",
       "department_Operations                    -0.167753           -0.112183  ...   \n",
       "department_Procurement                   -0.127246           -0.085094  ...   \n",
       "department_R&D                           -0.045095           -0.030156  ...   \n",
       "department_Sales & Marketing             -0.220127           -0.147208  ...   \n",
       "department_Technology                    -0.127181           -0.085051  ...   \n",
       "education_Bachelor's                      0.067968            0.020551  ...   \n",
       "education_Below Secondary                -0.040749            0.050088  ...   \n",
       "education_Master's & above               -0.057955           -0.034571  ...   \n",
       "gender_f                                 -0.144650           -0.016363  ...   \n",
       "gender_m                                  0.144650            0.016363  ...   \n",
       "recruitment_channel_other                 0.003361            0.008296  ...   \n",
       "recruitment_channel_referred             -0.017063           -0.028318  ...   \n",
       "recruitment_channel_sourcing              0.001495           -0.000251  ...   \n",
       "binned_A                                 -0.175694           -0.117201  ...   \n",
       "binned_B                                 -0.311872            0.219872  ...   \n",
       "binned_C                                  0.493305           -0.132998  ...   \n",
       "binned_D                                  0.034290           -0.004069  ...   \n",
       "\n",
       "                              education_Master's & above  gender_f  gender_m  \\\n",
       "no_of_trainings                                -0.033644 -0.084530  0.084530   \n",
       "age                                             0.364460  0.017816 -0.017816   \n",
       "previous_year_rating                            0.016745  0.023300 -0.023300   \n",
       "length_of_service                               0.249324  0.017747 -0.017747   \n",
       "KPIs_met >80%                                   0.009671  0.037916 -0.037916   \n",
       "awards_won?                                     0.001527 -0.000553  0.000553   \n",
       "avg_training_score                              0.033377  0.024840 -0.024840   \n",
       "is_promoted                                     0.029343  0.011109 -0.011109   \n",
       "department_Analytics                           -0.057955 -0.144650  0.144650   \n",
       "department_Finance                             -0.034571 -0.016363  0.016363   \n",
       "department_HR                                   0.014173  0.056925 -0.056925   \n",
       "department_Legal                               -0.037425 -0.050010  0.050010   \n",
       "department_Operations                           0.003995  0.129625 -0.129625   \n",
       "department_Procurement                          0.073735  0.136118 -0.136118   \n",
       "department_R&D                                  0.050368 -0.071731  0.071731   \n",
       "department_Sales & Marketing                   -0.037886 -0.159378  0.159378   \n",
       "department_Technology                           0.032781  0.079188 -0.079188   \n",
       "education_Bachelor's                           -0.963431 -0.034895  0.034895   \n",
       "education_Below Secondary                      -0.075900  0.015058 -0.015058   \n",
       "education_Master's & above                      1.000000  0.031356 -0.031356   \n",
       "gender_f                                        0.031356  1.000000 -1.000000   \n",
       "gender_m                                       -0.031356 -1.000000  1.000000   \n",
       "recruitment_channel_other                       0.010212  0.005760 -0.005760   \n",
       "recruitment_channel_referred                   -0.027997 -0.006960  0.006960   \n",
       "recruitment_channel_sourcing                   -0.002269 -0.003803  0.003803   \n",
       "binned_A                                       -0.022938 -0.093288  0.093288   \n",
       "binned_B                                       -0.007625  0.093531 -0.093531   \n",
       "binned_C                                        0.026212 -0.015936  0.015936   \n",
       "binned_D                                        0.013447 -0.006843  0.006843   \n",
       "\n",
       "                              recruitment_channel_other  \\\n",
       "no_of_trainings                                0.010886   \n",
       "age                                            0.018125   \n",
       "previous_year_rating                          -0.015358   \n",
       "length_of_service                              0.008694   \n",
       "KPIs_met >80%                                 -0.007304   \n",
       "awards_won?                                    0.003878   \n",
       "avg_training_score                             0.003260   \n",
       "is_promoted                                   -0.004879   \n",
       "department_Analytics                           0.003361   \n",
       "department_Finance                             0.008296   \n",
       "department_HR                                  0.000468   \n",
       "department_Legal                               0.001146   \n",
       "department_Operations                         -0.005168   \n",
       "department_Procurement                         0.007911   \n",
       "department_R&D                                -0.000365   \n",
       "department_Sales & Marketing                  -0.003906   \n",
       "department_Technology                         -0.005096   \n",
       "education_Bachelor's                          -0.008267   \n",
       "education_Below Secondary                     -0.006623   \n",
       "education_Master's & above                     0.010212   \n",
       "gender_f                                       0.005760   \n",
       "gender_m                                      -0.005760   \n",
       "recruitment_channel_other                      1.000000   \n",
       "recruitment_channel_referred                  -0.161225   \n",
       "recruitment_channel_sourcing                  -0.959426   \n",
       "binned_A                                      -0.005463   \n",
       "binned_B                                       0.004973   \n",
       "binned_C                                      -0.000550   \n",
       "binned_D                                       0.000356   \n",
       "\n",
       "                              recruitment_channel_referred  \\\n",
       "no_of_trainings                                  -0.014407   \n",
       "age                                              -0.041688   \n",
       "previous_year_rating                              0.066711   \n",
       "length_of_service                                -0.029272   \n",
       "KPIs_met >80%                                     0.048054   \n",
       "awards_won?                                       0.001372   \n",
       "avg_training_score                                0.027166   \n",
       "is_promoted                                       0.018641   \n",
       "department_Analytics                             -0.017063   \n",
       "department_Finance                               -0.028318   \n",
       "department_HR                                     0.038391   \n",
       "department_Legal                                 -0.000791   \n",
       "department_Operations                             0.000268   \n",
       "department_Procurement                           -0.026295   \n",
       "department_R&D                                   -0.001534   \n",
       "department_Sales & Marketing                     -0.027899   \n",
       "department_Technology                             0.074475   \n",
       "education_Bachelor's                              0.021952   \n",
       "education_Below Secondary                         0.020809   \n",
       "education_Master's & above                       -0.027997   \n",
       "gender_f                                         -0.006960   \n",
       "gender_m                                          0.006960   \n",
       "recruitment_channel_other                        -0.161225   \n",
       "recruitment_channel_referred                      1.000000   \n",
       "recruitment_channel_sourcing                     -0.123586   \n",
       "binned_A                                         -0.010361   \n",
       "binned_B                                         -0.025295   \n",
       "binned_C                                          0.036617   \n",
       "binned_D                                          0.002136   \n",
       "\n",
       "                              recruitment_channel_sourcing  binned_A  \\\n",
       "no_of_trainings                                  -0.006830  0.000176   \n",
       "age                                              -0.006314 -0.007530   \n",
       "previous_year_rating                             -0.003617 -0.097218   \n",
       "length_of_service                                -0.000379 -0.001615   \n",
       "KPIs_met >80%                                    -0.006385 -0.086637   \n",
       "awards_won?                                      -0.004292 -0.025310   \n",
       "avg_training_score                               -0.011039 -0.614004   \n",
       "is_promoted                                      -0.000483 -0.086658   \n",
       "department_Analytics                              0.001495 -0.175694   \n",
       "department_Finance                               -0.000251 -0.117201   \n",
       "department_HR                                    -0.011439  0.210693   \n",
       "department_Legal                                 -0.000926 -0.074099   \n",
       "department_Operations                             0.005120 -0.270979   \n",
       "department_Procurement                           -0.000442 -0.205835   \n",
       "department_R&D                                    0.000805 -0.072946   \n",
       "department_Sales & Marketing                      0.011898  0.651738   \n",
       "department_Technology                            -0.016153 -0.205730   \n",
       "education_Bachelor's                              0.002041  0.032338   \n",
       "education_Below Secondary                         0.000714 -0.036359   \n",
       "education_Master's & above                       -0.002269 -0.022938   \n",
       "gender_f                                         -0.003803 -0.093288   \n",
       "gender_m                                          0.003803  0.093288   \n",
       "recruitment_channel_other                        -0.959426 -0.005463   \n",
       "recruitment_channel_referred                     -0.123586 -0.010361   \n",
       "recruitment_channel_sourcing                      1.000000  0.008453   \n",
       "binned_A                                          0.008453  1.000000   \n",
       "binned_B                                          0.002227 -0.504490   \n",
       "binned_C                                         -0.009909 -0.345541   \n",
       "binned_D                                         -0.000968 -0.054709   \n",
       "\n",
       "                              binned_B  binned_C  binned_D  \n",
       "no_of_trainings              -0.046240  0.050822 -0.001815  \n",
       "age                           0.057407 -0.054303 -0.007380  \n",
       "previous_year_rating          0.062407  0.008981  0.050248  \n",
       "length_of_service             0.041930 -0.042759 -0.007351  \n",
       "KPIs_met >80%                 0.041031  0.021332  0.056570  \n",
       "awards_won?                  -0.029789  0.018651  0.166087  \n",
       "avg_training_score           -0.292758  0.826375  0.235106  \n",
       "is_promoted                  -0.053516  0.071358  0.293256  \n",
       "department_Analytics         -0.311872  0.493305  0.034290  \n",
       "department_Finance            0.219872 -0.132998 -0.004069  \n",
       "department_HR                -0.046152 -0.138511 -0.011867  \n",
       "department_Legal              0.143502 -0.087833 -0.007808  \n",
       "department_Operations         0.507893 -0.306250 -0.012728  \n",
       "department_Procurement        0.115419  0.061538 -0.002569  \n",
       "department_R&D               -0.129485  0.205272  0.012175  \n",
       "department_Sales & Marketing -0.146599 -0.428021 -0.019805  \n",
       "department_Technology        -0.364809  0.581056  0.022926  \n",
       "education_Bachelor's          0.000897 -0.027468 -0.013150  \n",
       "education_Below Secondary     0.024576  0.006253 -0.000297  \n",
       "education_Master's & above   -0.007625  0.026212  0.013447  \n",
       "gender_f                      0.093531 -0.015936 -0.006843  \n",
       "gender_m                     -0.093531  0.015936  0.006843  \n",
       "recruitment_channel_other     0.004973 -0.000550  0.000356  \n",
       "recruitment_channel_referred -0.025295  0.036617  0.002136  \n",
       "recruitment_channel_sourcing  0.002227 -0.009909 -0.000968  \n",
       "binned_A                     -0.504490 -0.345541 -0.054709  \n",
       "binned_B                      1.000000 -0.613366 -0.097114  \n",
       "binned_C                     -0.613366  1.000000 -0.066516  \n",
       "binned_D                     -0.097114 -0.066516  1.000000  \n",
       "\n",
       "[29 rows x 29 columns]"
      ]
     },
     "execution_count": 20,
     "metadata": {},
     "output_type": "execute_result"
    }
   ],
   "source": [
    "hr.corr()#3,5,67"
   ]
  },
  {
   "cell_type": "code",
   "execution_count": 53,
   "id": "3e81337b",
   "metadata": {},
   "outputs": [],
   "source": []
  },
  {
   "cell_type": "code",
   "execution_count": null,
   "id": "c3eff207",
   "metadata": {},
   "outputs": [],
   "source": []
  },
  {
   "cell_type": "code",
   "execution_count": 21,
   "id": "25167513",
   "metadata": {},
   "outputs": [],
   "source": [
    "test_cl=hr[hr['is_promoted'].isnull()]\n",
    "train_cl=hr[hr['is_promoted'].notnull()]"
   ]
  },
  {
   "cell_type": "code",
   "execution_count": 22,
   "id": "0684630e",
   "metadata": {},
   "outputs": [],
   "source": [
    "train_y=train_cl[\"is_promoted\"]\n",
    "train_x=train_cl.drop(\"is_promoted\",axis=1)\n",
    "test_cl=test_cl.drop(\"is_promoted\",axis=1)"
   ]
  },
  {
   "cell_type": "code",
   "execution_count": 26,
   "id": "a42a9ce9",
   "metadata": {},
   "outputs": [],
   "source": [
    "from sklearn.linear_model import LogisticRegression\n",
    "lr=LogisticRegression()"
   ]
  },
  {
   "cell_type": "code",
   "execution_count": 27,
   "id": "943e5afc",
   "metadata": {},
   "outputs": [
    {
     "data": {
      "text/plain": [
       "LogisticRegression()"
      ]
     },
     "execution_count": 27,
     "metadata": {},
     "output_type": "execute_result"
    }
   ],
   "source": [
    "lr.fit(train_x,train_y)"
   ]
  },
  {
   "cell_type": "code",
   "execution_count": 30,
   "id": "d1961dc0",
   "metadata": {},
   "outputs": [
    {
     "data": {
      "text/plain": [
       "array([0., 0., 0., ..., 0., 0., 0.])"
      ]
     },
     "execution_count": 30,
     "metadata": {},
     "output_type": "execute_result"
    }
   ],
   "source": [
    "pred_labels=lr.predict(test_cl)\n",
    "pred_labels"
   ]
  },
  {
   "cell_type": "code",
   "execution_count": 31,
   "id": "57917353",
   "metadata": {},
   "outputs": [],
   "source": [
    "predicted=pd.concat([test_cl,pd.DataFrame(pred_labels)],axis=1)"
   ]
  },
  {
   "cell_type": "code",
   "execution_count": 32,
   "id": "f7be0904",
   "metadata": {},
   "outputs": [],
   "source": [
    "predicted.to_csv(\"logisticoutput2.csv\")"
   ]
  },
  {
   "cell_type": "markdown",
   "id": "e073ace2",
   "metadata": {},
   "source": [
    "#### decisiontrees"
   ]
  },
  {
   "cell_type": "code",
   "execution_count": 33,
   "id": "7df280a0",
   "metadata": {},
   "outputs": [
    {
     "data": {
      "text/plain": [
       "DecisionTreeClassifier()"
      ]
     },
     "execution_count": 33,
     "metadata": {},
     "output_type": "execute_result"
    }
   ],
   "source": [
    "from sklearn.tree import DecisionTreeClassifier\n",
    "Classifier=DecisionTreeClassifier()\n",
    "Classifier.fit(train_x,train_y)\n"
   ]
  },
  {
   "cell_type": "code",
   "execution_count": 35,
   "id": "9042e564",
   "metadata": {},
   "outputs": [],
   "source": [
    "y_pred=Classifier.predict(test_cl)"
   ]
  },
  {
   "cell_type": "code",
   "execution_count": 36,
   "id": "c5837c53",
   "metadata": {},
   "outputs": [
    {
     "data": {
      "text/plain": [
       "array([0., 0., 0., ..., 0., 0., 1.])"
      ]
     },
     "execution_count": 36,
     "metadata": {},
     "output_type": "execute_result"
    }
   ],
   "source": [
    "y_pred"
   ]
  },
  {
   "cell_type": "code",
   "execution_count": 37,
   "id": "5b30d1e5",
   "metadata": {},
   "outputs": [],
   "source": [
    "predicted=pd.concat([test_cl,pd.DataFrame(y_pred)],axis=1)"
   ]
  },
  {
   "cell_type": "code",
   "execution_count": 38,
   "id": "3568892c",
   "metadata": {},
   "outputs": [],
   "source": [
    "predicted.to_csv(\"decisiontreeoutput01.csv\")"
   ]
  },
  {
   "cell_type": "markdown",
   "id": "0bfbb9a3",
   "metadata": {},
   "source": [
    "#### Random Forest"
   ]
  },
  {
   "cell_type": "code",
   "execution_count": 39,
   "id": "d009dbf7",
   "metadata": {},
   "outputs": [
    {
     "data": {
      "text/plain": [
       "RandomForestClassifier(n_estimators=20, random_state=0)"
      ]
     },
     "execution_count": 39,
     "metadata": {},
     "output_type": "execute_result"
    }
   ],
   "source": [
    "from sklearn.ensemble import RandomForestClassifier\n",
    "regressor=RandomForestClassifier(n_estimators=20,random_state=0)\n",
    "regressor.fit(train_x,train_y)"
   ]
  },
  {
   "cell_type": "code",
   "execution_count": 51,
   "id": "6910ac56",
   "metadata": {},
   "outputs": [],
   "source": [
    "y_pred=regressor.predict(test_cl)"
   ]
  },
  {
   "cell_type": "code",
   "execution_count": 52,
   "id": "6e7dbfc2",
   "metadata": {},
   "outputs": [],
   "source": [
    "predicted=pd.concat([test_cl,pd.DataFrame(y_pred)],axis=1)"
   ]
  },
  {
   "cell_type": "code",
   "execution_count": 53,
   "id": "eb4c756e",
   "metadata": {},
   "outputs": [],
   "source": [
    "predicted.to_csv(\"randomforestoutput01.csv\")"
   ]
  },
  {
   "cell_type": "code",
   "execution_count": 56,
   "id": "559a5030",
   "metadata": {},
   "outputs": [
    {
     "data": {
      "text/plain": [
       "[{'model': ['old', 'decisiontree', 'randomforest'],\n",
       "  'score': [0.3599, 0.4267, 0.651],\n",
       "  'rank': [3057, 2428, 1938]}]"
      ]
     },
     "execution_count": 56,
     "metadata": {},
     "output_type": "execute_result"
    }
   ],
   "source": [
    "a=[{'model':['old','decisiontree','randomforest'],'score':[0.3599,0.4267,0.651],'rank':[3057,2428,1938]}]\n",
    "a"
   ]
  },
  {
   "cell_type": "markdown",
   "id": "e87d3d8b",
   "metadata": {},
   "source": [
    "#### RandomForest"
   ]
  },
  {
   "cell_type": "code",
   "execution_count": 57,
   "id": "566a84ec",
   "metadata": {},
   "outputs": [
    {
     "data": {
      "text/plain": [
       "RandomForestClassifier(n_estimators=10, random_state=0)"
      ]
     },
     "execution_count": 57,
     "metadata": {},
     "output_type": "execute_result"
    }
   ],
   "source": [
    "from sklearn.ensemble import RandomForestClassifier\n",
    "regressor=RandomForestClassifier(n_estimators=10,random_state=0)\n",
    "regressor.fit(train_x,train_y)"
   ]
  },
  {
   "cell_type": "code",
   "execution_count": 58,
   "id": "20ec20e3",
   "metadata": {},
   "outputs": [],
   "source": [
    "y_pred=regressor.predict(test_cl)"
   ]
  },
  {
   "cell_type": "code",
   "execution_count": 59,
   "id": "8f5b66c6",
   "metadata": {},
   "outputs": [],
   "source": [
    "predicted=pd.concat([test_cl,pd.DataFrame(y_pred)],axis=1)"
   ]
  },
  {
   "cell_type": "code",
   "execution_count": 60,
   "id": "c23f5ac1",
   "metadata": {},
   "outputs": [],
   "source": [
    "predicted.to_csv(\"randomforestestimatorchangedoutput01.csv\")"
   ]
  },
  {
   "cell_type": "markdown",
   "id": "46b91f52",
   "metadata": {},
   "source": [
    "#### Randomforest2"
   ]
  },
  {
   "cell_type": "code",
   "execution_count": 63,
   "id": "90ba165e",
   "metadata": {},
   "outputs": [
    {
     "data": {
      "text/plain": [
       "RandomForestClassifier(n_estimators=25, random_state=0)"
      ]
     },
     "execution_count": 63,
     "metadata": {},
     "output_type": "execute_result"
    }
   ],
   "source": [
    "from sklearn.ensemble import RandomForestClassifier\n",
    "regressor=RandomForestClassifier(n_estimators=25,random_state=0)\n",
    "regressor.fit(train_x,train_y)"
   ]
  },
  {
   "cell_type": "code",
   "execution_count": 67,
   "id": "6f86bcb5",
   "metadata": {},
   "outputs": [],
   "source": [
    "y_pred=regressor.predict(test_cl)"
   ]
  },
  {
   "cell_type": "code",
   "execution_count": 68,
   "id": "9543f449",
   "metadata": {},
   "outputs": [],
   "source": [
    "predicted=pd.concat([test_cl,pd.DataFrame(y_pred)],axis=1)"
   ]
  },
  {
   "cell_type": "code",
   "execution_count": 69,
   "id": "da2d119c",
   "metadata": {},
   "outputs": [],
   "source": [
    "predicted.to_csv(\"randomforestestimatorchangedoutput02.csv\")"
   ]
  },
  {
   "cell_type": "markdown",
   "id": "0ca906de",
   "metadata": {},
   "source": [
    "#### Randomforest3"
   ]
  },
  {
   "cell_type": "code",
   "execution_count": 40,
   "id": "da50fea1",
   "metadata": {},
   "outputs": [
    {
     "data": {
      "text/plain": [
       "RandomForestClassifier(n_estimators=28, random_state=0)"
      ]
     },
     "execution_count": 40,
     "metadata": {},
     "output_type": "execute_result"
    }
   ],
   "source": [
    "from sklearn.ensemble import RandomForestClassifier\n",
    "regressor=RandomForestClassifier(n_estimators=28,random_state=0)\n",
    "regressor.fit(train_x,train_y)"
   ]
  },
  {
   "cell_type": "code",
   "execution_count": 41,
   "id": "a79580ec",
   "metadata": {},
   "outputs": [],
   "source": [
    "y_pred=regressor.predict(test_cl)"
   ]
  },
  {
   "cell_type": "code",
   "execution_count": 42,
   "id": "74457021",
   "metadata": {},
   "outputs": [],
   "source": [
    "predicted=pd.concat([test_cl,pd.DataFrame(y_pred)],axis=1)"
   ]
  },
  {
   "cell_type": "code",
   "execution_count": 76,
   "id": "4e631dad",
   "metadata": {},
   "outputs": [],
   "source": [
    "predicted.to_csv(\"randomforestestimatorchangedoutput03.csv\")"
   ]
  },
  {
   "cell_type": "markdown",
   "id": "17e395d1",
   "metadata": {},
   "source": [
    "## Ensembling"
   ]
  },
  {
   "cell_type": "code",
   "execution_count": 54,
   "id": "3ba713ef",
   "metadata": {},
   "outputs": [
    {
     "data": {
      "text/plain": [
       "1.0"
      ]
     },
     "execution_count": 54,
     "metadata": {},
     "output_type": "execute_result"
    }
   ],
   "source": [
    "from sklearn.ensemble import VotingClassifier\n",
    "mod1=LogisticRegression(random_state=1)\n",
    "mod2=DecisionTreeClassifier(random_state=1)\n",
    "mod3=RandomForestClassifier(random_state=1)\n",
    "model=VotingClassifier(estimators=[('lr',mod1),('dt',mod2),('regressor',mod3)],voting='hard')\n",
    "model.fit(train_x,train_y)\n",
    "y_preds=model.predict(test_cl)\n",
    "model.score(test_cl,y_preds)"
   ]
  },
  {
   "cell_type": "code",
   "execution_count": 55,
   "id": "c36a9ea2",
   "metadata": {},
   "outputs": [
    {
     "data": {
      "text/plain": [
       "array([0., 0., 0., ..., 0., 0., 1.])"
      ]
     },
     "execution_count": 55,
     "metadata": {},
     "output_type": "execute_result"
    }
   ],
   "source": [
    "y_preds"
   ]
  },
  {
   "cell_type": "code",
   "execution_count": 56,
   "id": "f449f488",
   "metadata": {},
   "outputs": [],
   "source": [
    "pred=pd.concat([test_cl,pd.DataFrame(y_preds)],axis=1)\n",
    "pred.to_csv(\"ensembleoutputhranalytics2.csv\")"
   ]
  },
  {
   "cell_type": "code",
   "execution_count": 70,
   "id": "4be2964f",
   "metadata": {},
   "outputs": [
    {
     "data": {
      "text/plain": [
       "0.9960042329586921"
      ]
     },
     "execution_count": 70,
     "metadata": {},
     "output_type": "execute_result"
    }
   ],
   "source": []
  },
  {
   "cell_type": "code",
   "execution_count": 67,
   "id": "1d96b6de",
   "metadata": {},
   "outputs": [
    {
     "data": {
      "text/plain": [
       "array([0., 0., 0., ..., 0., 0., 0.])"
      ]
     },
     "execution_count": 67,
     "metadata": {},
     "output_type": "execute_result"
    }
   ],
   "source": [
    "a=model.predict(train_x)\n",
    "a"
   ]
  },
  {
   "cell_type": "code",
   "execution_count": 65,
   "id": "0f76ab23",
   "metadata": {},
   "outputs": [
    {
     "data": {
      "text/plain": [
       "array([0., 0., 0., ..., 0., 0., 0.])"
      ]
     },
     "execution_count": 65,
     "metadata": {},
     "output_type": "execute_result"
    }
   ],
   "source": [
    "b=np.array(train_y)\n",
    "b"
   ]
  },
  {
   "cell_type": "code",
   "execution_count": 68,
   "id": "3492c54c",
   "metadata": {},
   "outputs": [
    {
     "ename": "ValueError",
     "evalue": "Expected 2D array, got 1D array instead:\narray=[0. 0. 0. ... 0. 0. 0.].\nReshape your data either using array.reshape(-1, 1) if your data has a single feature or array.reshape(1, -1) if it contains a single sample.",
     "output_type": "error",
     "traceback": [
      "\u001b[1;31m---------------------------------------------------------------------------\u001b[0m",
      "\u001b[1;31mValueError\u001b[0m                                Traceback (most recent call last)",
      "\u001b[1;32m<ipython-input-68-a78b236a5fce>\u001b[0m in \u001b[0;36m<module>\u001b[1;34m\u001b[0m\n\u001b[1;32m----> 1\u001b[1;33m \u001b[0mmodel\u001b[0m\u001b[1;33m.\u001b[0m\u001b[0mscore\u001b[0m\u001b[1;33m(\u001b[0m\u001b[0ma\u001b[0m\u001b[1;33m,\u001b[0m\u001b[0mb\u001b[0m\u001b[1;33m)\u001b[0m\u001b[1;33m\u001b[0m\u001b[1;33m\u001b[0m\u001b[0m\n\u001b[0m",
      "\u001b[1;32m~\\anaconda3\\lib\\site-packages\\sklearn\\base.py\u001b[0m in \u001b[0;36mscore\u001b[1;34m(self, X, y, sample_weight)\u001b[0m\n\u001b[0;32m    498\u001b[0m         \"\"\"\n\u001b[0;32m    499\u001b[0m         \u001b[1;32mfrom\u001b[0m \u001b[1;33m.\u001b[0m\u001b[0mmetrics\u001b[0m \u001b[1;32mimport\u001b[0m \u001b[0maccuracy_score\u001b[0m\u001b[1;33m\u001b[0m\u001b[1;33m\u001b[0m\u001b[0m\n\u001b[1;32m--> 500\u001b[1;33m         \u001b[1;32mreturn\u001b[0m \u001b[0maccuracy_score\u001b[0m\u001b[1;33m(\u001b[0m\u001b[0my\u001b[0m\u001b[1;33m,\u001b[0m \u001b[0mself\u001b[0m\u001b[1;33m.\u001b[0m\u001b[0mpredict\u001b[0m\u001b[1;33m(\u001b[0m\u001b[0mX\u001b[0m\u001b[1;33m)\u001b[0m\u001b[1;33m,\u001b[0m \u001b[0msample_weight\u001b[0m\u001b[1;33m=\u001b[0m\u001b[0msample_weight\u001b[0m\u001b[1;33m)\u001b[0m\u001b[1;33m\u001b[0m\u001b[1;33m\u001b[0m\u001b[0m\n\u001b[0m\u001b[0;32m    501\u001b[0m \u001b[1;33m\u001b[0m\u001b[0m\n\u001b[0;32m    502\u001b[0m     \u001b[1;32mdef\u001b[0m \u001b[0m_more_tags\u001b[0m\u001b[1;33m(\u001b[0m\u001b[0mself\u001b[0m\u001b[1;33m)\u001b[0m\u001b[1;33m:\u001b[0m\u001b[1;33m\u001b[0m\u001b[1;33m\u001b[0m\u001b[0m\n",
      "\u001b[1;32m~\\anaconda3\\lib\\site-packages\\sklearn\\ensemble\\_voting.py\u001b[0m in \u001b[0;36mpredict\u001b[1;34m(self, X)\u001b[0m\n\u001b[0;32m    310\u001b[0m \u001b[1;33m\u001b[0m\u001b[0m\n\u001b[0;32m    311\u001b[0m         \u001b[1;32melse\u001b[0m\u001b[1;33m:\u001b[0m  \u001b[1;31m# 'hard' voting\u001b[0m\u001b[1;33m\u001b[0m\u001b[1;33m\u001b[0m\u001b[0m\n\u001b[1;32m--> 312\u001b[1;33m             \u001b[0mpredictions\u001b[0m \u001b[1;33m=\u001b[0m \u001b[0mself\u001b[0m\u001b[1;33m.\u001b[0m\u001b[0m_predict\u001b[0m\u001b[1;33m(\u001b[0m\u001b[0mX\u001b[0m\u001b[1;33m)\u001b[0m\u001b[1;33m\u001b[0m\u001b[1;33m\u001b[0m\u001b[0m\n\u001b[0m\u001b[0;32m    313\u001b[0m             maj = np.apply_along_axis(\n\u001b[0;32m    314\u001b[0m                 lambda x: np.argmax(\n",
      "\u001b[1;32m~\\anaconda3\\lib\\site-packages\\sklearn\\ensemble\\_voting.py\u001b[0m in \u001b[0;36m_predict\u001b[1;34m(self, X)\u001b[0m\n\u001b[0;32m     59\u001b[0m     \u001b[1;32mdef\u001b[0m \u001b[0m_predict\u001b[0m\u001b[1;33m(\u001b[0m\u001b[0mself\u001b[0m\u001b[1;33m,\u001b[0m \u001b[0mX\u001b[0m\u001b[1;33m)\u001b[0m\u001b[1;33m:\u001b[0m\u001b[1;33m\u001b[0m\u001b[1;33m\u001b[0m\u001b[0m\n\u001b[0;32m     60\u001b[0m         \u001b[1;34m\"\"\"Collect results from clf.predict calls.\"\"\"\u001b[0m\u001b[1;33m\u001b[0m\u001b[1;33m\u001b[0m\u001b[0m\n\u001b[1;32m---> 61\u001b[1;33m         \u001b[1;32mreturn\u001b[0m \u001b[0mnp\u001b[0m\u001b[1;33m.\u001b[0m\u001b[0masarray\u001b[0m\u001b[1;33m(\u001b[0m\u001b[1;33m[\u001b[0m\u001b[0mest\u001b[0m\u001b[1;33m.\u001b[0m\u001b[0mpredict\u001b[0m\u001b[1;33m(\u001b[0m\u001b[0mX\u001b[0m\u001b[1;33m)\u001b[0m \u001b[1;32mfor\u001b[0m \u001b[0mest\u001b[0m \u001b[1;32min\u001b[0m \u001b[0mself\u001b[0m\u001b[1;33m.\u001b[0m\u001b[0mestimators_\u001b[0m\u001b[1;33m]\u001b[0m\u001b[1;33m)\u001b[0m\u001b[1;33m.\u001b[0m\u001b[0mT\u001b[0m\u001b[1;33m\u001b[0m\u001b[1;33m\u001b[0m\u001b[0m\n\u001b[0m\u001b[0;32m     62\u001b[0m \u001b[1;33m\u001b[0m\u001b[0m\n\u001b[0;32m     63\u001b[0m     \u001b[1;33m@\u001b[0m\u001b[0mabstractmethod\u001b[0m\u001b[1;33m\u001b[0m\u001b[1;33m\u001b[0m\u001b[0m\n",
      "\u001b[1;32m~\\anaconda3\\lib\\site-packages\\sklearn\\ensemble\\_voting.py\u001b[0m in \u001b[0;36m<listcomp>\u001b[1;34m(.0)\u001b[0m\n\u001b[0;32m     59\u001b[0m     \u001b[1;32mdef\u001b[0m \u001b[0m_predict\u001b[0m\u001b[1;33m(\u001b[0m\u001b[0mself\u001b[0m\u001b[1;33m,\u001b[0m \u001b[0mX\u001b[0m\u001b[1;33m)\u001b[0m\u001b[1;33m:\u001b[0m\u001b[1;33m\u001b[0m\u001b[1;33m\u001b[0m\u001b[0m\n\u001b[0;32m     60\u001b[0m         \u001b[1;34m\"\"\"Collect results from clf.predict calls.\"\"\"\u001b[0m\u001b[1;33m\u001b[0m\u001b[1;33m\u001b[0m\u001b[0m\n\u001b[1;32m---> 61\u001b[1;33m         \u001b[1;32mreturn\u001b[0m \u001b[0mnp\u001b[0m\u001b[1;33m.\u001b[0m\u001b[0masarray\u001b[0m\u001b[1;33m(\u001b[0m\u001b[1;33m[\u001b[0m\u001b[0mest\u001b[0m\u001b[1;33m.\u001b[0m\u001b[0mpredict\u001b[0m\u001b[1;33m(\u001b[0m\u001b[0mX\u001b[0m\u001b[1;33m)\u001b[0m \u001b[1;32mfor\u001b[0m \u001b[0mest\u001b[0m \u001b[1;32min\u001b[0m \u001b[0mself\u001b[0m\u001b[1;33m.\u001b[0m\u001b[0mestimators_\u001b[0m\u001b[1;33m]\u001b[0m\u001b[1;33m)\u001b[0m\u001b[1;33m.\u001b[0m\u001b[0mT\u001b[0m\u001b[1;33m\u001b[0m\u001b[1;33m\u001b[0m\u001b[0m\n\u001b[0m\u001b[0;32m     62\u001b[0m \u001b[1;33m\u001b[0m\u001b[0m\n\u001b[0;32m     63\u001b[0m     \u001b[1;33m@\u001b[0m\u001b[0mabstractmethod\u001b[0m\u001b[1;33m\u001b[0m\u001b[1;33m\u001b[0m\u001b[0m\n",
      "\u001b[1;32m~\\anaconda3\\lib\\site-packages\\sklearn\\linear_model\\_base.py\u001b[0m in \u001b[0;36mpredict\u001b[1;34m(self, X)\u001b[0m\n\u001b[0;32m    307\u001b[0m             \u001b[0mPredicted\u001b[0m \u001b[1;32mclass\u001b[0m \u001b[0mlabel\u001b[0m \u001b[0mper\u001b[0m \u001b[0msample\u001b[0m\u001b[1;33m.\u001b[0m\u001b[1;33m\u001b[0m\u001b[1;33m\u001b[0m\u001b[0m\n\u001b[0;32m    308\u001b[0m         \"\"\"\n\u001b[1;32m--> 309\u001b[1;33m         \u001b[0mscores\u001b[0m \u001b[1;33m=\u001b[0m \u001b[0mself\u001b[0m\u001b[1;33m.\u001b[0m\u001b[0mdecision_function\u001b[0m\u001b[1;33m(\u001b[0m\u001b[0mX\u001b[0m\u001b[1;33m)\u001b[0m\u001b[1;33m\u001b[0m\u001b[1;33m\u001b[0m\u001b[0m\n\u001b[0m\u001b[0;32m    310\u001b[0m         \u001b[1;32mif\u001b[0m \u001b[0mlen\u001b[0m\u001b[1;33m(\u001b[0m\u001b[0mscores\u001b[0m\u001b[1;33m.\u001b[0m\u001b[0mshape\u001b[0m\u001b[1;33m)\u001b[0m \u001b[1;33m==\u001b[0m \u001b[1;36m1\u001b[0m\u001b[1;33m:\u001b[0m\u001b[1;33m\u001b[0m\u001b[1;33m\u001b[0m\u001b[0m\n\u001b[0;32m    311\u001b[0m             \u001b[0mindices\u001b[0m \u001b[1;33m=\u001b[0m \u001b[1;33m(\u001b[0m\u001b[0mscores\u001b[0m \u001b[1;33m>\u001b[0m \u001b[1;36m0\u001b[0m\u001b[1;33m)\u001b[0m\u001b[1;33m.\u001b[0m\u001b[0mastype\u001b[0m\u001b[1;33m(\u001b[0m\u001b[0mint\u001b[0m\u001b[1;33m)\u001b[0m\u001b[1;33m\u001b[0m\u001b[1;33m\u001b[0m\u001b[0m\n",
      "\u001b[1;32m~\\anaconda3\\lib\\site-packages\\sklearn\\linear_model\\_base.py\u001b[0m in \u001b[0;36mdecision_function\u001b[1;34m(self, X)\u001b[0m\n\u001b[0;32m    282\u001b[0m         \u001b[0mcheck_is_fitted\u001b[0m\u001b[1;33m(\u001b[0m\u001b[0mself\u001b[0m\u001b[1;33m)\u001b[0m\u001b[1;33m\u001b[0m\u001b[1;33m\u001b[0m\u001b[0m\n\u001b[0;32m    283\u001b[0m \u001b[1;33m\u001b[0m\u001b[0m\n\u001b[1;32m--> 284\u001b[1;33m         \u001b[0mX\u001b[0m \u001b[1;33m=\u001b[0m \u001b[0mcheck_array\u001b[0m\u001b[1;33m(\u001b[0m\u001b[0mX\u001b[0m\u001b[1;33m,\u001b[0m \u001b[0maccept_sparse\u001b[0m\u001b[1;33m=\u001b[0m\u001b[1;34m'csr'\u001b[0m\u001b[1;33m)\u001b[0m\u001b[1;33m\u001b[0m\u001b[1;33m\u001b[0m\u001b[0m\n\u001b[0m\u001b[0;32m    285\u001b[0m \u001b[1;33m\u001b[0m\u001b[0m\n\u001b[0;32m    286\u001b[0m         \u001b[0mn_features\u001b[0m \u001b[1;33m=\u001b[0m \u001b[0mself\u001b[0m\u001b[1;33m.\u001b[0m\u001b[0mcoef_\u001b[0m\u001b[1;33m.\u001b[0m\u001b[0mshape\u001b[0m\u001b[1;33m[\u001b[0m\u001b[1;36m1\u001b[0m\u001b[1;33m]\u001b[0m\u001b[1;33m\u001b[0m\u001b[1;33m\u001b[0m\u001b[0m\n",
      "\u001b[1;32m~\\anaconda3\\lib\\site-packages\\sklearn\\utils\\validation.py\u001b[0m in \u001b[0;36minner_f\u001b[1;34m(*args, **kwargs)\u001b[0m\n\u001b[0;32m     61\u001b[0m             \u001b[0mextra_args\u001b[0m \u001b[1;33m=\u001b[0m \u001b[0mlen\u001b[0m\u001b[1;33m(\u001b[0m\u001b[0margs\u001b[0m\u001b[1;33m)\u001b[0m \u001b[1;33m-\u001b[0m \u001b[0mlen\u001b[0m\u001b[1;33m(\u001b[0m\u001b[0mall_args\u001b[0m\u001b[1;33m)\u001b[0m\u001b[1;33m\u001b[0m\u001b[1;33m\u001b[0m\u001b[0m\n\u001b[0;32m     62\u001b[0m             \u001b[1;32mif\u001b[0m \u001b[0mextra_args\u001b[0m \u001b[1;33m<=\u001b[0m \u001b[1;36m0\u001b[0m\u001b[1;33m:\u001b[0m\u001b[1;33m\u001b[0m\u001b[1;33m\u001b[0m\u001b[0m\n\u001b[1;32m---> 63\u001b[1;33m                 \u001b[1;32mreturn\u001b[0m \u001b[0mf\u001b[0m\u001b[1;33m(\u001b[0m\u001b[1;33m*\u001b[0m\u001b[0margs\u001b[0m\u001b[1;33m,\u001b[0m \u001b[1;33m**\u001b[0m\u001b[0mkwargs\u001b[0m\u001b[1;33m)\u001b[0m\u001b[1;33m\u001b[0m\u001b[1;33m\u001b[0m\u001b[0m\n\u001b[0m\u001b[0;32m     64\u001b[0m \u001b[1;33m\u001b[0m\u001b[0m\n\u001b[0;32m     65\u001b[0m             \u001b[1;31m# extra_args > 0\u001b[0m\u001b[1;33m\u001b[0m\u001b[1;33m\u001b[0m\u001b[1;33m\u001b[0m\u001b[0m\n",
      "\u001b[1;32m~\\anaconda3\\lib\\site-packages\\sklearn\\utils\\validation.py\u001b[0m in \u001b[0;36mcheck_array\u001b[1;34m(array, accept_sparse, accept_large_sparse, dtype, order, copy, force_all_finite, ensure_2d, allow_nd, ensure_min_samples, ensure_min_features, estimator)\u001b[0m\n\u001b[0;32m    635\u001b[0m             \u001b[1;31m# If input is 1D raise error\u001b[0m\u001b[1;33m\u001b[0m\u001b[1;33m\u001b[0m\u001b[1;33m\u001b[0m\u001b[0m\n\u001b[0;32m    636\u001b[0m             \u001b[1;32mif\u001b[0m \u001b[0marray\u001b[0m\u001b[1;33m.\u001b[0m\u001b[0mndim\u001b[0m \u001b[1;33m==\u001b[0m \u001b[1;36m1\u001b[0m\u001b[1;33m:\u001b[0m\u001b[1;33m\u001b[0m\u001b[1;33m\u001b[0m\u001b[0m\n\u001b[1;32m--> 637\u001b[1;33m                 raise ValueError(\n\u001b[0m\u001b[0;32m    638\u001b[0m                     \u001b[1;34m\"Expected 2D array, got 1D array instead:\\narray={}.\\n\"\u001b[0m\u001b[1;33m\u001b[0m\u001b[1;33m\u001b[0m\u001b[0m\n\u001b[0;32m    639\u001b[0m                     \u001b[1;34m\"Reshape your data either using array.reshape(-1, 1) if \"\u001b[0m\u001b[1;33m\u001b[0m\u001b[1;33m\u001b[0m\u001b[0m\n",
      "\u001b[1;31mValueError\u001b[0m: Expected 2D array, got 1D array instead:\narray=[0. 0. 0. ... 0. 0. 0.].\nReshape your data either using array.reshape(-1, 1) if your data has a single feature or array.reshape(1, -1) if it contains a single sample."
     ]
    }
   ],
   "source": [
    "model.score(a,b)"
   ]
  },
  {
   "cell_type": "markdown",
   "id": "dc8137b3",
   "metadata": {},
   "source": [
    "## Ensemble 2"
   ]
  },
  {
   "cell_type": "code",
   "execution_count": 71,
   "id": "a2cb84ff",
   "metadata": {},
   "outputs": [],
   "source": [
    "from sklearn.ensemble import VotingClassifier\n",
    "\n",
    "mod1=DecisionTreeClassifier(random_state=1)\n",
    "mod2=RandomForestClassifier(random_state=1)\n",
    "model=VotingClassifier(estimators=[('dt',mod1),('regressor',mod2)],voting='hard')\n",
    "model.fit(train_x,train_y)\n",
    "y_preds2=model.predict(test_cl)\n"
   ]
  },
  {
   "cell_type": "code",
   "execution_count": 72,
   "id": "6aa3e8ee",
   "metadata": {},
   "outputs": [],
   "source": [
    "pred=pd.concat([test_cl,pd.DataFrame(y_preds2)],axis=1)\n",
    "pred.to_csv(\"ensembleoutputhranalytics3.csv\")"
   ]
  },
  {
   "cell_type": "code",
   "execution_count": 73,
   "id": "cf382609",
   "metadata": {},
   "outputs": [],
   "source": [
    "from sklearn.ensemble import VotingClassifier\n",
    "\n",
    "mod1=DecisionTreeClassifier(random_state=1)\n",
    "mod2=RandomForestClassifier(n_estimators=28,random_state=1)\n",
    "model=VotingClassifier(estimators=[('dt',mod1),('regressor',mod2)],voting='hard')\n",
    "model.fit(train_x,train_y)\n",
    "y_preds3=model.predict(test_cl)"
   ]
  },
  {
   "cell_type": "code",
   "execution_count": 74,
   "id": "a1b76c72",
   "metadata": {},
   "outputs": [],
   "source": [
    "pred=pd.concat([test_cl,pd.DataFrame(y_preds3)],axis=1)\n",
    "pred.to_csv(\"ensembleoutputhranalytics4.csv\")"
   ]
  },
  {
   "cell_type": "markdown",
   "id": "5e085c82",
   "metadata": {},
   "source": [
    "## ada boost"
   ]
  },
  {
   "cell_type": "code",
   "execution_count": 75,
   "id": "0d9b3010",
   "metadata": {},
   "outputs": [
    {
     "data": {
      "text/plain": [
       "AdaBoostClassifier(random_state=1)"
      ]
     },
     "execution_count": 75,
     "metadata": {},
     "output_type": "execute_result"
    }
   ],
   "source": [
    "from sklearn.ensemble import AdaBoostClassifier\n",
    "model=AdaBoostClassifier(random_state=1)\n",
    "model.fit(train_x,train_y)"
   ]
  },
  {
   "cell_type": "code",
   "execution_count": 76,
   "id": "184499ee",
   "metadata": {},
   "outputs": [],
   "source": [
    "ada=model.predict(test_cl)"
   ]
  },
  {
   "cell_type": "code",
   "execution_count": 77,
   "id": "cb777e01",
   "metadata": {},
   "outputs": [
    {
     "data": {
      "text/plain": [
       "array([0., 0., 0., ..., 0., 0., 1.])"
      ]
     },
     "execution_count": 77,
     "metadata": {},
     "output_type": "execute_result"
    }
   ],
   "source": [
    "ada"
   ]
  },
  {
   "cell_type": "code",
   "execution_count": 78,
   "id": "31f81f47",
   "metadata": {},
   "outputs": [],
   "source": [
    "pred=pd.concat([test_cl,pd.DataFrame(ada)],axis=1)\n",
    "pred.to_csv(\"adaboosthranalytics.csv\")"
   ]
  },
  {
   "cell_type": "markdown",
   "id": "20ecb84f",
   "metadata": {},
   "source": [
    "## gradientboost"
   ]
  },
  {
   "cell_type": "code",
   "execution_count": 80,
   "id": "2447453e",
   "metadata": {},
   "outputs": [
    {
     "data": {
      "text/plain": [
       "GradientBoostingClassifier(learning_rate=0.01, random_state=1)"
      ]
     },
     "execution_count": 80,
     "metadata": {},
     "output_type": "execute_result"
    }
   ],
   "source": [
    "from sklearn.ensemble import GradientBoostingClassifier\n",
    "model=GradientBoostingClassifier(learning_rate=0.01,random_state=1)\n",
    "model.fit(train_x,train_y)"
   ]
  },
  {
   "cell_type": "code",
   "execution_count": 82,
   "id": "29d029b4",
   "metadata": {},
   "outputs": [
    {
     "data": {
      "text/plain": [
       "array([0., 0., 0., ..., 0., 0., 0.])"
      ]
     },
     "execution_count": 82,
     "metadata": {},
     "output_type": "execute_result"
    }
   ],
   "source": [
    "gb=model.predict(test_cl)\n",
    "gb"
   ]
  },
  {
   "cell_type": "code",
   "execution_count": 83,
   "id": "2a3d9b7d",
   "metadata": {},
   "outputs": [],
   "source": [
    "pred=pd.concat([test_cl,pd.DataFrame(gb)],axis=1)\n",
    "pred.to_csv(\"gradientboosthranalytics.csv\")"
   ]
  },
  {
   "cell_type": "markdown",
   "id": "4b504726",
   "metadata": {},
   "source": [
    "## xgboost"
   ]
  },
  {
   "cell_type": "code",
   "execution_count": 23,
   "id": "b2ab834c",
   "metadata": {},
   "outputs": [],
   "source": [
    "from sklearn.model_selection import cross_val_score, GridSearchCV, KFold, RandomizedSearchCV, train_test_split"
   ]
  },
  {
   "cell_type": "code",
   "execution_count": null,
   "id": "55cc0b9e",
   "metadata": {},
   "outputs": [],
   "source": [
    "# GridSearchCV()"
   ]
  },
  {
   "cell_type": "code",
   "execution_count": null,
   "id": "671fc2f0",
   "metadata": {},
   "outputs": [],
   "source": [
    "import xgboost as xgb\n",
    "\n",
    "parameters={\"learning_rate\":[0.01,0.1,0.2,0.5],\n",
    "            \"n_estimators\":[10,20,30,40,50,75,100,150,200],\n",
    "            \"n_jobs\":[2,6,8,10],\n",
    "            \"max_depth\":[4,6,8,10]\n",
    "#             \"random_state\":[0]\n",
    "           }\n",
    "\n",
    "model=xgb.XGBClassifier(random_state=0)\n",
    "\n",
    "GS_XGB=GridSearchCV(estimator=model,\n",
    "                   param_grid=parameters,\n",
    "                   cv=10,\n",
    "                   n_jobs=-1)\n",
    "\n",
    "\n",
    "# model=xgb.XGBClassifier(learning_rate=0.01,random_state=1)\n",
    "GS_XGB.fit(train_x,train_y)"
   ]
  },
  {
   "cell_type": "code",
   "execution_count": 29,
   "id": "404386cd",
   "metadata": {},
   "outputs": [
    {
     "ename": "NotFittedError",
     "evalue": "need to call fit or load_model beforehand",
     "output_type": "error",
     "traceback": [
      "\u001b[1;31m---------------------------------------------------------------------------\u001b[0m",
      "\u001b[1;31mNotFittedError\u001b[0m                            Traceback (most recent call last)",
      "\u001b[1;32m<ipython-input-29-486ba774267e>\u001b[0m in \u001b[0;36m<module>\u001b[1;34m\u001b[0m\n\u001b[1;32m----> 1\u001b[1;33m \u001b[0mxg\u001b[0m\u001b[1;33m=\u001b[0m\u001b[0mmodel\u001b[0m\u001b[1;33m.\u001b[0m\u001b[0mpredict\u001b[0m\u001b[1;33m(\u001b[0m\u001b[0mtest_cl\u001b[0m\u001b[1;33m)\u001b[0m\u001b[1;33m\u001b[0m\u001b[1;33m\u001b[0m\u001b[0m\n\u001b[0m",
      "\u001b[1;32m~\\anaconda3\\lib\\site-packages\\xgboost\\sklearn.py\u001b[0m in \u001b[0;36mpredict\u001b[1;34m(self, X, output_margin, ntree_limit, validate_features, base_margin, iteration_range)\u001b[0m\n\u001b[0;32m   1282\u001b[0m         \u001b[0miteration_range\u001b[0m\u001b[1;33m:\u001b[0m \u001b[0mOptional\u001b[0m\u001b[1;33m[\u001b[0m\u001b[0mTuple\u001b[0m\u001b[1;33m[\u001b[0m\u001b[0mint\u001b[0m\u001b[1;33m,\u001b[0m \u001b[0mint\u001b[0m\u001b[1;33m]\u001b[0m\u001b[1;33m]\u001b[0m \u001b[1;33m=\u001b[0m \u001b[1;32mNone\u001b[0m\u001b[1;33m,\u001b[0m\u001b[1;33m\u001b[0m\u001b[1;33m\u001b[0m\u001b[0m\n\u001b[0;32m   1283\u001b[0m     ) -> np.ndarray:\n\u001b[1;32m-> 1284\u001b[1;33m         class_probs = super().predict(\n\u001b[0m\u001b[0;32m   1285\u001b[0m             \u001b[0mX\u001b[0m\u001b[1;33m=\u001b[0m\u001b[0mX\u001b[0m\u001b[1;33m,\u001b[0m\u001b[1;33m\u001b[0m\u001b[1;33m\u001b[0m\u001b[0m\n\u001b[0;32m   1286\u001b[0m             \u001b[0moutput_margin\u001b[0m\u001b[1;33m=\u001b[0m\u001b[0moutput_margin\u001b[0m\u001b[1;33m,\u001b[0m\u001b[1;33m\u001b[0m\u001b[1;33m\u001b[0m\u001b[0m\n",
      "\u001b[1;32m~\\anaconda3\\lib\\site-packages\\xgboost\\sklearn.py\u001b[0m in \u001b[0;36mpredict\u001b[1;34m(self, X, output_margin, ntree_limit, validate_features, base_margin, iteration_range)\u001b[0m\n\u001b[0;32m    874\u001b[0m         \"\"\"\n\u001b[0;32m    875\u001b[0m         iteration_range = _convert_ntree_limit(\n\u001b[1;32m--> 876\u001b[1;33m             \u001b[0mself\u001b[0m\u001b[1;33m.\u001b[0m\u001b[0mget_booster\u001b[0m\u001b[1;33m(\u001b[0m\u001b[1;33m)\u001b[0m\u001b[1;33m,\u001b[0m \u001b[0mntree_limit\u001b[0m\u001b[1;33m,\u001b[0m \u001b[0miteration_range\u001b[0m\u001b[1;33m\u001b[0m\u001b[1;33m\u001b[0m\u001b[0m\n\u001b[0m\u001b[0;32m    877\u001b[0m         )\n\u001b[0;32m    878\u001b[0m         \u001b[0miteration_range\u001b[0m \u001b[1;33m=\u001b[0m \u001b[0mself\u001b[0m\u001b[1;33m.\u001b[0m\u001b[0m_get_iteration_range\u001b[0m\u001b[1;33m(\u001b[0m\u001b[0miteration_range\u001b[0m\u001b[1;33m)\u001b[0m\u001b[1;33m\u001b[0m\u001b[1;33m\u001b[0m\u001b[0m\n",
      "\u001b[1;32m~\\anaconda3\\lib\\site-packages\\xgboost\\sklearn.py\u001b[0m in \u001b[0;36mget_booster\u001b[1;34m(self)\u001b[0m\n\u001b[0;32m    457\u001b[0m         \u001b[1;32mif\u001b[0m \u001b[1;32mnot\u001b[0m \u001b[0mself\u001b[0m\u001b[1;33m.\u001b[0m\u001b[0m__sklearn_is_fitted__\u001b[0m\u001b[1;33m(\u001b[0m\u001b[1;33m)\u001b[0m\u001b[1;33m:\u001b[0m\u001b[1;33m\u001b[0m\u001b[1;33m\u001b[0m\u001b[0m\n\u001b[0;32m    458\u001b[0m             \u001b[1;32mfrom\u001b[0m \u001b[0msklearn\u001b[0m\u001b[1;33m.\u001b[0m\u001b[0mexceptions\u001b[0m \u001b[1;32mimport\u001b[0m \u001b[0mNotFittedError\u001b[0m\u001b[1;33m\u001b[0m\u001b[1;33m\u001b[0m\u001b[0m\n\u001b[1;32m--> 459\u001b[1;33m             \u001b[1;32mraise\u001b[0m \u001b[0mNotFittedError\u001b[0m\u001b[1;33m(\u001b[0m\u001b[1;34m'need to call fit or load_model beforehand'\u001b[0m\u001b[1;33m)\u001b[0m\u001b[1;33m\u001b[0m\u001b[1;33m\u001b[0m\u001b[0m\n\u001b[0m\u001b[0;32m    460\u001b[0m         \u001b[1;32mreturn\u001b[0m \u001b[0mself\u001b[0m\u001b[1;33m.\u001b[0m\u001b[0m_Booster\u001b[0m\u001b[1;33m\u001b[0m\u001b[1;33m\u001b[0m\u001b[0m\n\u001b[0;32m    461\u001b[0m \u001b[1;33m\u001b[0m\u001b[0m\n",
      "\u001b[1;31mNotFittedError\u001b[0m: need to call fit or load_model beforehand"
     ]
    }
   ],
   "source": [
    "xg=model.predict(test_cl)"
   ]
  },
  {
   "cell_type": "code",
   "execution_count": null,
   "id": "36400641",
   "metadata": {},
   "outputs": [],
   "source": [
    "xg"
   ]
  },
  {
   "cell_type": "code",
   "execution_count": 88,
   "id": "4ac7d6f5",
   "metadata": {},
   "outputs": [],
   "source": [
    "pred=pd.concat([test_cl,pd.DataFrame(xg)],axis=1)\n",
    "pred.to_csv(\"xgboosthranalytics.csv\")"
   ]
  },
  {
   "cell_type": "code",
   "execution_count": null,
   "id": "61a58cbc",
   "metadata": {},
   "outputs": [],
   "source": []
  }
 ],
 "metadata": {
  "kernelspec": {
   "display_name": "Python 3",
   "language": "python",
   "name": "python3"
  },
  "language_info": {
   "codemirror_mode": {
    "name": "ipython",
    "version": 3
   },
   "file_extension": ".py",
   "mimetype": "text/x-python",
   "name": "python",
   "nbconvert_exporter": "python",
   "pygments_lexer": "ipython3",
   "version": "3.8.8"
  }
 },
 "nbformat": 4,
 "nbformat_minor": 5
}
